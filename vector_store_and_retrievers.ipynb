{
 "cells": [
  {
   "cell_type": "code",
   "execution_count": 7,
   "metadata": {},
   "outputs": [
    {
     "name": "stdout",
     "output_type": "stream",
     "text": [
      "Requirement already satisfied: langchain in /Users/apirak/Library/Caches/pypoetry/virtualenvs/deal-droid-Yh1ExAlx-py3.12/lib/python3.12/site-packages (0.2.3)\n",
      "Requirement already satisfied: PyYAML>=5.3 in /Users/apirak/Library/Caches/pypoetry/virtualenvs/deal-droid-Yh1ExAlx-py3.12/lib/python3.12/site-packages (from langchain) (6.0.1)\n",
      "Requirement already satisfied: SQLAlchemy<3,>=1.4 in /Users/apirak/Library/Caches/pypoetry/virtualenvs/deal-droid-Yh1ExAlx-py3.12/lib/python3.12/site-packages (from langchain) (2.0.31)\n",
      "Requirement already satisfied: aiohttp<4.0.0,>=3.8.3 in /Users/apirak/Library/Caches/pypoetry/virtualenvs/deal-droid-Yh1ExAlx-py3.12/lib/python3.12/site-packages (from langchain) (3.9.5)\n",
      "Requirement already satisfied: langchain-core<0.3.0,>=0.2.0 in /Users/apirak/Library/Caches/pypoetry/virtualenvs/deal-droid-Yh1ExAlx-py3.12/lib/python3.12/site-packages (from langchain) (0.2.9)\n",
      "Requirement already satisfied: langchain-text-splitters<0.3.0,>=0.2.0 in /Users/apirak/Library/Caches/pypoetry/virtualenvs/deal-droid-Yh1ExAlx-py3.12/lib/python3.12/site-packages (from langchain) (0.2.1)\n",
      "Requirement already satisfied: langsmith<0.2.0,>=0.1.17 in /Users/apirak/Library/Caches/pypoetry/virtualenvs/deal-droid-Yh1ExAlx-py3.12/lib/python3.12/site-packages (from langchain) (0.1.81)\n",
      "Requirement already satisfied: numpy<2,>=1 in /Users/apirak/Library/Caches/pypoetry/virtualenvs/deal-droid-Yh1ExAlx-py3.12/lib/python3.12/site-packages (from langchain) (1.26.4)\n",
      "Requirement already satisfied: pydantic<3,>=1 in /Users/apirak/Library/Caches/pypoetry/virtualenvs/deal-droid-Yh1ExAlx-py3.12/lib/python3.12/site-packages (from langchain) (2.7.4)\n",
      "Requirement already satisfied: requests<3,>=2 in /Users/apirak/Library/Caches/pypoetry/virtualenvs/deal-droid-Yh1ExAlx-py3.12/lib/python3.12/site-packages (from langchain) (2.32.3)\n",
      "Requirement already satisfied: tenacity<9.0.0,>=8.1.0 in /Users/apirak/Library/Caches/pypoetry/virtualenvs/deal-droid-Yh1ExAlx-py3.12/lib/python3.12/site-packages (from langchain) (8.4.1)\n",
      "Requirement already satisfied: aiosignal>=1.1.2 in /Users/apirak/Library/Caches/pypoetry/virtualenvs/deal-droid-Yh1ExAlx-py3.12/lib/python3.12/site-packages (from aiohttp<4.0.0,>=3.8.3->langchain) (1.3.1)\n",
      "Requirement already satisfied: attrs>=17.3.0 in /Users/apirak/Library/Caches/pypoetry/virtualenvs/deal-droid-Yh1ExAlx-py3.12/lib/python3.12/site-packages (from aiohttp<4.0.0,>=3.8.3->langchain) (23.2.0)\n",
      "Requirement already satisfied: frozenlist>=1.1.1 in /Users/apirak/Library/Caches/pypoetry/virtualenvs/deal-droid-Yh1ExAlx-py3.12/lib/python3.12/site-packages (from aiohttp<4.0.0,>=3.8.3->langchain) (1.4.1)\n",
      "Requirement already satisfied: multidict<7.0,>=4.5 in /Users/apirak/Library/Caches/pypoetry/virtualenvs/deal-droid-Yh1ExAlx-py3.12/lib/python3.12/site-packages (from aiohttp<4.0.0,>=3.8.3->langchain) (6.0.5)\n",
      "Requirement already satisfied: yarl<2.0,>=1.0 in /Users/apirak/Library/Caches/pypoetry/virtualenvs/deal-droid-Yh1ExAlx-py3.12/lib/python3.12/site-packages (from aiohttp<4.0.0,>=3.8.3->langchain) (1.9.4)\n",
      "Requirement already satisfied: jsonpatch<2.0,>=1.33 in /Users/apirak/Library/Caches/pypoetry/virtualenvs/deal-droid-Yh1ExAlx-py3.12/lib/python3.12/site-packages (from langchain-core<0.3.0,>=0.2.0->langchain) (1.33)\n",
      "Requirement already satisfied: packaging<25,>=23.2 in /Users/apirak/Library/Caches/pypoetry/virtualenvs/deal-droid-Yh1ExAlx-py3.12/lib/python3.12/site-packages (from langchain-core<0.3.0,>=0.2.0->langchain) (23.2)\n",
      "Requirement already satisfied: orjson<4.0.0,>=3.9.14 in /Users/apirak/Library/Caches/pypoetry/virtualenvs/deal-droid-Yh1ExAlx-py3.12/lib/python3.12/site-packages (from langsmith<0.2.0,>=0.1.17->langchain) (3.10.5)\n",
      "Requirement already satisfied: annotated-types>=0.4.0 in /Users/apirak/Library/Caches/pypoetry/virtualenvs/deal-droid-Yh1ExAlx-py3.12/lib/python3.12/site-packages (from pydantic<3,>=1->langchain) (0.7.0)\n",
      "Requirement already satisfied: pydantic-core==2.18.4 in /Users/apirak/Library/Caches/pypoetry/virtualenvs/deal-droid-Yh1ExAlx-py3.12/lib/python3.12/site-packages (from pydantic<3,>=1->langchain) (2.18.4)\n",
      "Requirement already satisfied: typing-extensions>=4.6.1 in /Users/apirak/Library/Caches/pypoetry/virtualenvs/deal-droid-Yh1ExAlx-py3.12/lib/python3.12/site-packages (from pydantic<3,>=1->langchain) (4.12.2)\n",
      "Requirement already satisfied: charset-normalizer<4,>=2 in /Users/apirak/Library/Caches/pypoetry/virtualenvs/deal-droid-Yh1ExAlx-py3.12/lib/python3.12/site-packages (from requests<3,>=2->langchain) (3.3.2)\n",
      "Requirement already satisfied: idna<4,>=2.5 in /Users/apirak/Library/Caches/pypoetry/virtualenvs/deal-droid-Yh1ExAlx-py3.12/lib/python3.12/site-packages (from requests<3,>=2->langchain) (3.7)\n",
      "Requirement already satisfied: urllib3<3,>=1.21.1 in /Users/apirak/Library/Caches/pypoetry/virtualenvs/deal-droid-Yh1ExAlx-py3.12/lib/python3.12/site-packages (from requests<3,>=2->langchain) (2.2.2)\n",
      "Requirement already satisfied: certifi>=2017.4.17 in /Users/apirak/Library/Caches/pypoetry/virtualenvs/deal-droid-Yh1ExAlx-py3.12/lib/python3.12/site-packages (from requests<3,>=2->langchain) (2024.6.2)\n",
      "Requirement already satisfied: jsonpointer>=1.9 in /Users/apirak/Library/Caches/pypoetry/virtualenvs/deal-droid-Yh1ExAlx-py3.12/lib/python3.12/site-packages (from jsonpatch<2.0,>=1.33->langchain-core<0.3.0,>=0.2.0->langchain) (3.0.0)\n",
      "Note: you may need to restart the kernel to use updated packages.\n",
      "Requirement already satisfied: python-dotenv in /Users/apirak/Library/Caches/pypoetry/virtualenvs/deal-droid-Yh1ExAlx-py3.12/lib/python3.12/site-packages (1.0.1)\n",
      "Note: you may need to restart the kernel to use updated packages.\n",
      "Note: you may need to restart the kernel to use updated packages.\n",
      "Requirement already satisfied: langchain-chroma in /Users/apirak/Library/Caches/pypoetry/virtualenvs/deal-droid-Yh1ExAlx-py3.12/lib/python3.12/site-packages (0.1.1)\n",
      "Requirement already satisfied: chromadb<0.6.0,>=0.4.0 in /Users/apirak/Library/Caches/pypoetry/virtualenvs/deal-droid-Yh1ExAlx-py3.12/lib/python3.12/site-packages (from langchain-chroma) (0.5.3)\n",
      "Requirement already satisfied: fastapi<1,>=0.95.2 in /Users/apirak/Library/Caches/pypoetry/virtualenvs/deal-droid-Yh1ExAlx-py3.12/lib/python3.12/site-packages (from langchain-chroma) (0.111.0)\n",
      "Requirement already satisfied: langchain-core<0.3,>=0.1.40 in /Users/apirak/Library/Caches/pypoetry/virtualenvs/deal-droid-Yh1ExAlx-py3.12/lib/python3.12/site-packages (from langchain-chroma) (0.2.9)\n",
      "Requirement already satisfied: numpy<2,>=1 in /Users/apirak/Library/Caches/pypoetry/virtualenvs/deal-droid-Yh1ExAlx-py3.12/lib/python3.12/site-packages (from langchain-chroma) (1.26.4)\n",
      "Requirement already satisfied: build>=1.0.3 in /Users/apirak/Library/Caches/pypoetry/virtualenvs/deal-droid-Yh1ExAlx-py3.12/lib/python3.12/site-packages (from chromadb<0.6.0,>=0.4.0->langchain-chroma) (1.2.1)\n",
      "Requirement already satisfied: requests>=2.28 in /Users/apirak/Library/Caches/pypoetry/virtualenvs/deal-droid-Yh1ExAlx-py3.12/lib/python3.12/site-packages (from chromadb<0.6.0,>=0.4.0->langchain-chroma) (2.32.3)\n",
      "Requirement already satisfied: pydantic>=1.9 in /Users/apirak/Library/Caches/pypoetry/virtualenvs/deal-droid-Yh1ExAlx-py3.12/lib/python3.12/site-packages (from chromadb<0.6.0,>=0.4.0->langchain-chroma) (2.7.4)\n",
      "Requirement already satisfied: chroma-hnswlib==0.7.3 in /Users/apirak/Library/Caches/pypoetry/virtualenvs/deal-droid-Yh1ExAlx-py3.12/lib/python3.12/site-packages (from chromadb<0.6.0,>=0.4.0->langchain-chroma) (0.7.3)\n",
      "Requirement already satisfied: uvicorn>=0.18.3 in /Users/apirak/Library/Caches/pypoetry/virtualenvs/deal-droid-Yh1ExAlx-py3.12/lib/python3.12/site-packages (from uvicorn[standard]>=0.18.3->chromadb<0.6.0,>=0.4.0->langchain-chroma) (0.30.1)\n",
      "Requirement already satisfied: posthog>=2.4.0 in /Users/apirak/Library/Caches/pypoetry/virtualenvs/deal-droid-Yh1ExAlx-py3.12/lib/python3.12/site-packages (from chromadb<0.6.0,>=0.4.0->langchain-chroma) (3.5.0)\n",
      "Requirement already satisfied: typing-extensions>=4.5.0 in /Users/apirak/Library/Caches/pypoetry/virtualenvs/deal-droid-Yh1ExAlx-py3.12/lib/python3.12/site-packages (from chromadb<0.6.0,>=0.4.0->langchain-chroma) (4.12.2)\n",
      "Requirement already satisfied: onnxruntime>=1.14.1 in /Users/apirak/Library/Caches/pypoetry/virtualenvs/deal-droid-Yh1ExAlx-py3.12/lib/python3.12/site-packages (from chromadb<0.6.0,>=0.4.0->langchain-chroma) (1.18.0)\n",
      "Requirement already satisfied: opentelemetry-api>=1.2.0 in /Users/apirak/Library/Caches/pypoetry/virtualenvs/deal-droid-Yh1ExAlx-py3.12/lib/python3.12/site-packages (from chromadb<0.6.0,>=0.4.0->langchain-chroma) (1.25.0)\n",
      "Requirement already satisfied: opentelemetry-exporter-otlp-proto-grpc>=1.2.0 in /Users/apirak/Library/Caches/pypoetry/virtualenvs/deal-droid-Yh1ExAlx-py3.12/lib/python3.12/site-packages (from chromadb<0.6.0,>=0.4.0->langchain-chroma) (1.25.0)\n",
      "Requirement already satisfied: opentelemetry-instrumentation-fastapi>=0.41b0 in /Users/apirak/Library/Caches/pypoetry/virtualenvs/deal-droid-Yh1ExAlx-py3.12/lib/python3.12/site-packages (from chromadb<0.6.0,>=0.4.0->langchain-chroma) (0.46b0)\n",
      "Requirement already satisfied: opentelemetry-sdk>=1.2.0 in /Users/apirak/Library/Caches/pypoetry/virtualenvs/deal-droid-Yh1ExAlx-py3.12/lib/python3.12/site-packages (from chromadb<0.6.0,>=0.4.0->langchain-chroma) (1.25.0)\n",
      "Requirement already satisfied: tokenizers>=0.13.2 in /Users/apirak/Library/Caches/pypoetry/virtualenvs/deal-droid-Yh1ExAlx-py3.12/lib/python3.12/site-packages (from chromadb<0.6.0,>=0.4.0->langchain-chroma) (0.19.1)\n",
      "Requirement already satisfied: pypika>=0.48.9 in /Users/apirak/Library/Caches/pypoetry/virtualenvs/deal-droid-Yh1ExAlx-py3.12/lib/python3.12/site-packages (from chromadb<0.6.0,>=0.4.0->langchain-chroma) (0.48.9)\n",
      "Requirement already satisfied: tqdm>=4.65.0 in /Users/apirak/Library/Caches/pypoetry/virtualenvs/deal-droid-Yh1ExAlx-py3.12/lib/python3.12/site-packages (from chromadb<0.6.0,>=0.4.0->langchain-chroma) (4.66.4)\n",
      "Requirement already satisfied: overrides>=7.3.1 in /Users/apirak/Library/Caches/pypoetry/virtualenvs/deal-droid-Yh1ExAlx-py3.12/lib/python3.12/site-packages (from chromadb<0.6.0,>=0.4.0->langchain-chroma) (7.7.0)\n",
      "Requirement already satisfied: importlib-resources in /Users/apirak/Library/Caches/pypoetry/virtualenvs/deal-droid-Yh1ExAlx-py3.12/lib/python3.12/site-packages (from chromadb<0.6.0,>=0.4.0->langchain-chroma) (6.4.0)\n",
      "Requirement already satisfied: grpcio>=1.58.0 in /Users/apirak/Library/Caches/pypoetry/virtualenvs/deal-droid-Yh1ExAlx-py3.12/lib/python3.12/site-packages (from chromadb<0.6.0,>=0.4.0->langchain-chroma) (1.64.1)\n",
      "Requirement already satisfied: bcrypt>=4.0.1 in /Users/apirak/Library/Caches/pypoetry/virtualenvs/deal-droid-Yh1ExAlx-py3.12/lib/python3.12/site-packages (from chromadb<0.6.0,>=0.4.0->langchain-chroma) (4.1.3)\n",
      "Requirement already satisfied: typer>=0.9.0 in /Users/apirak/Library/Caches/pypoetry/virtualenvs/deal-droid-Yh1ExAlx-py3.12/lib/python3.12/site-packages (from chromadb<0.6.0,>=0.4.0->langchain-chroma) (0.12.3)\n",
      "Requirement already satisfied: kubernetes>=28.1.0 in /Users/apirak/Library/Caches/pypoetry/virtualenvs/deal-droid-Yh1ExAlx-py3.12/lib/python3.12/site-packages (from chromadb<0.6.0,>=0.4.0->langchain-chroma) (30.1.0)\n",
      "Requirement already satisfied: tenacity>=8.2.3 in /Users/apirak/Library/Caches/pypoetry/virtualenvs/deal-droid-Yh1ExAlx-py3.12/lib/python3.12/site-packages (from chromadb<0.6.0,>=0.4.0->langchain-chroma) (8.4.1)\n",
      "Requirement already satisfied: PyYAML>=6.0.0 in /Users/apirak/Library/Caches/pypoetry/virtualenvs/deal-droid-Yh1ExAlx-py3.12/lib/python3.12/site-packages (from chromadb<0.6.0,>=0.4.0->langchain-chroma) (6.0.1)\n",
      "Requirement already satisfied: mmh3>=4.0.1 in /Users/apirak/Library/Caches/pypoetry/virtualenvs/deal-droid-Yh1ExAlx-py3.12/lib/python3.12/site-packages (from chromadb<0.6.0,>=0.4.0->langchain-chroma) (4.1.0)\n",
      "Requirement already satisfied: orjson>=3.9.12 in /Users/apirak/Library/Caches/pypoetry/virtualenvs/deal-droid-Yh1ExAlx-py3.12/lib/python3.12/site-packages (from chromadb<0.6.0,>=0.4.0->langchain-chroma) (3.10.5)\n",
      "Requirement already satisfied: httpx>=0.27.0 in /Users/apirak/Library/Caches/pypoetry/virtualenvs/deal-droid-Yh1ExAlx-py3.12/lib/python3.12/site-packages (from chromadb<0.6.0,>=0.4.0->langchain-chroma) (0.27.0)\n",
      "Requirement already satisfied: starlette<0.38.0,>=0.37.2 in /Users/apirak/Library/Caches/pypoetry/virtualenvs/deal-droid-Yh1ExAlx-py3.12/lib/python3.12/site-packages (from fastapi<1,>=0.95.2->langchain-chroma) (0.37.2)\n",
      "Requirement already satisfied: fastapi-cli>=0.0.2 in /Users/apirak/Library/Caches/pypoetry/virtualenvs/deal-droid-Yh1ExAlx-py3.12/lib/python3.12/site-packages (from fastapi<1,>=0.95.2->langchain-chroma) (0.0.4)\n",
      "Requirement already satisfied: jinja2>=2.11.2 in /Users/apirak/Library/Caches/pypoetry/virtualenvs/deal-droid-Yh1ExAlx-py3.12/lib/python3.12/site-packages (from fastapi<1,>=0.95.2->langchain-chroma) (3.1.4)\n",
      "Requirement already satisfied: python-multipart>=0.0.7 in /Users/apirak/Library/Caches/pypoetry/virtualenvs/deal-droid-Yh1ExAlx-py3.12/lib/python3.12/site-packages (from fastapi<1,>=0.95.2->langchain-chroma) (0.0.9)\n",
      "Requirement already satisfied: ujson!=4.0.2,!=4.1.0,!=4.2.0,!=4.3.0,!=5.0.0,!=5.1.0,>=4.0.1 in /Users/apirak/Library/Caches/pypoetry/virtualenvs/deal-droid-Yh1ExAlx-py3.12/lib/python3.12/site-packages (from fastapi<1,>=0.95.2->langchain-chroma) (5.10.0)\n",
      "Requirement already satisfied: email_validator>=2.0.0 in /Users/apirak/Library/Caches/pypoetry/virtualenvs/deal-droid-Yh1ExAlx-py3.12/lib/python3.12/site-packages (from fastapi<1,>=0.95.2->langchain-chroma) (2.2.0)\n",
      "Requirement already satisfied: jsonpatch<2.0,>=1.33 in /Users/apirak/Library/Caches/pypoetry/virtualenvs/deal-droid-Yh1ExAlx-py3.12/lib/python3.12/site-packages (from langchain-core<0.3,>=0.1.40->langchain-chroma) (1.33)\n",
      "Requirement already satisfied: langsmith<0.2.0,>=0.1.75 in /Users/apirak/Library/Caches/pypoetry/virtualenvs/deal-droid-Yh1ExAlx-py3.12/lib/python3.12/site-packages (from langchain-core<0.3,>=0.1.40->langchain-chroma) (0.1.81)\n",
      "Requirement already satisfied: packaging<25,>=23.2 in /Users/apirak/Library/Caches/pypoetry/virtualenvs/deal-droid-Yh1ExAlx-py3.12/lib/python3.12/site-packages (from langchain-core<0.3,>=0.1.40->langchain-chroma) (23.2)\n",
      "Requirement already satisfied: pyproject_hooks in /Users/apirak/Library/Caches/pypoetry/virtualenvs/deal-droid-Yh1ExAlx-py3.12/lib/python3.12/site-packages (from build>=1.0.3->chromadb<0.6.0,>=0.4.0->langchain-chroma) (1.1.0)\n",
      "Requirement already satisfied: dnspython>=2.0.0 in /Users/apirak/Library/Caches/pypoetry/virtualenvs/deal-droid-Yh1ExAlx-py3.12/lib/python3.12/site-packages (from email_validator>=2.0.0->fastapi<1,>=0.95.2->langchain-chroma) (2.6.1)\n",
      "Requirement already satisfied: idna>=2.0.0 in /Users/apirak/Library/Caches/pypoetry/virtualenvs/deal-droid-Yh1ExAlx-py3.12/lib/python3.12/site-packages (from email_validator>=2.0.0->fastapi<1,>=0.95.2->langchain-chroma) (3.7)\n",
      "Requirement already satisfied: anyio in /Users/apirak/Library/Caches/pypoetry/virtualenvs/deal-droid-Yh1ExAlx-py3.12/lib/python3.12/site-packages (from httpx>=0.27.0->chromadb<0.6.0,>=0.4.0->langchain-chroma) (4.4.0)\n",
      "Requirement already satisfied: certifi in /Users/apirak/Library/Caches/pypoetry/virtualenvs/deal-droid-Yh1ExAlx-py3.12/lib/python3.12/site-packages (from httpx>=0.27.0->chromadb<0.6.0,>=0.4.0->langchain-chroma) (2024.6.2)\n",
      "Requirement already satisfied: httpcore==1.* in /Users/apirak/Library/Caches/pypoetry/virtualenvs/deal-droid-Yh1ExAlx-py3.12/lib/python3.12/site-packages (from httpx>=0.27.0->chromadb<0.6.0,>=0.4.0->langchain-chroma) (1.0.5)\n",
      "Requirement already satisfied: sniffio in /Users/apirak/Library/Caches/pypoetry/virtualenvs/deal-droid-Yh1ExAlx-py3.12/lib/python3.12/site-packages (from httpx>=0.27.0->chromadb<0.6.0,>=0.4.0->langchain-chroma) (1.3.1)\n",
      "Requirement already satisfied: h11<0.15,>=0.13 in /Users/apirak/Library/Caches/pypoetry/virtualenvs/deal-droid-Yh1ExAlx-py3.12/lib/python3.12/site-packages (from httpcore==1.*->httpx>=0.27.0->chromadb<0.6.0,>=0.4.0->langchain-chroma) (0.14.0)\n",
      "Requirement already satisfied: MarkupSafe>=2.0 in /Users/apirak/Library/Caches/pypoetry/virtualenvs/deal-droid-Yh1ExAlx-py3.12/lib/python3.12/site-packages (from jinja2>=2.11.2->fastapi<1,>=0.95.2->langchain-chroma) (2.1.5)\n",
      "Requirement already satisfied: jsonpointer>=1.9 in /Users/apirak/Library/Caches/pypoetry/virtualenvs/deal-droid-Yh1ExAlx-py3.12/lib/python3.12/site-packages (from jsonpatch<2.0,>=1.33->langchain-core<0.3,>=0.1.40->langchain-chroma) (3.0.0)\n",
      "Requirement already satisfied: six>=1.9.0 in /Users/apirak/Library/Caches/pypoetry/virtualenvs/deal-droid-Yh1ExAlx-py3.12/lib/python3.12/site-packages (from kubernetes>=28.1.0->chromadb<0.6.0,>=0.4.0->langchain-chroma) (1.16.0)\n",
      "Requirement already satisfied: python-dateutil>=2.5.3 in /Users/apirak/Library/Caches/pypoetry/virtualenvs/deal-droid-Yh1ExAlx-py3.12/lib/python3.12/site-packages (from kubernetes>=28.1.0->chromadb<0.6.0,>=0.4.0->langchain-chroma) (2.9.0.post0)\n",
      "Requirement already satisfied: google-auth>=1.0.1 in /Users/apirak/Library/Caches/pypoetry/virtualenvs/deal-droid-Yh1ExAlx-py3.12/lib/python3.12/site-packages (from kubernetes>=28.1.0->chromadb<0.6.0,>=0.4.0->langchain-chroma) (2.30.0)\n",
      "Requirement already satisfied: websocket-client!=0.40.0,!=0.41.*,!=0.42.*,>=0.32.0 in /Users/apirak/Library/Caches/pypoetry/virtualenvs/deal-droid-Yh1ExAlx-py3.12/lib/python3.12/site-packages (from kubernetes>=28.1.0->chromadb<0.6.0,>=0.4.0->langchain-chroma) (1.8.0)\n",
      "Requirement already satisfied: requests-oauthlib in /Users/apirak/Library/Caches/pypoetry/virtualenvs/deal-droid-Yh1ExAlx-py3.12/lib/python3.12/site-packages (from kubernetes>=28.1.0->chromadb<0.6.0,>=0.4.0->langchain-chroma) (2.0.0)\n",
      "Requirement already satisfied: oauthlib>=3.2.2 in /Users/apirak/Library/Caches/pypoetry/virtualenvs/deal-droid-Yh1ExAlx-py3.12/lib/python3.12/site-packages (from kubernetes>=28.1.0->chromadb<0.6.0,>=0.4.0->langchain-chroma) (3.2.2)\n",
      "Requirement already satisfied: urllib3>=1.24.2 in /Users/apirak/Library/Caches/pypoetry/virtualenvs/deal-droid-Yh1ExAlx-py3.12/lib/python3.12/site-packages (from kubernetes>=28.1.0->chromadb<0.6.0,>=0.4.0->langchain-chroma) (2.2.2)\n",
      "Requirement already satisfied: coloredlogs in /Users/apirak/Library/Caches/pypoetry/virtualenvs/deal-droid-Yh1ExAlx-py3.12/lib/python3.12/site-packages (from onnxruntime>=1.14.1->chromadb<0.6.0,>=0.4.0->langchain-chroma) (15.0.1)\n",
      "Requirement already satisfied: flatbuffers in /Users/apirak/Library/Caches/pypoetry/virtualenvs/deal-droid-Yh1ExAlx-py3.12/lib/python3.12/site-packages (from onnxruntime>=1.14.1->chromadb<0.6.0,>=0.4.0->langchain-chroma) (24.3.25)\n",
      "Requirement already satisfied: protobuf in /Users/apirak/Library/Caches/pypoetry/virtualenvs/deal-droid-Yh1ExAlx-py3.12/lib/python3.12/site-packages (from onnxruntime>=1.14.1->chromadb<0.6.0,>=0.4.0->langchain-chroma) (4.25.3)\n",
      "Requirement already satisfied: sympy in /Users/apirak/Library/Caches/pypoetry/virtualenvs/deal-droid-Yh1ExAlx-py3.12/lib/python3.12/site-packages (from onnxruntime>=1.14.1->chromadb<0.6.0,>=0.4.0->langchain-chroma) (1.12.1)\n",
      "Requirement already satisfied: deprecated>=1.2.6 in /Users/apirak/Library/Caches/pypoetry/virtualenvs/deal-droid-Yh1ExAlx-py3.12/lib/python3.12/site-packages (from opentelemetry-api>=1.2.0->chromadb<0.6.0,>=0.4.0->langchain-chroma) (1.2.14)\n",
      "Requirement already satisfied: importlib-metadata<=7.1,>=6.0 in /Users/apirak/Library/Caches/pypoetry/virtualenvs/deal-droid-Yh1ExAlx-py3.12/lib/python3.12/site-packages (from opentelemetry-api>=1.2.0->chromadb<0.6.0,>=0.4.0->langchain-chroma) (7.1.0)\n",
      "Requirement already satisfied: googleapis-common-protos~=1.52 in /Users/apirak/Library/Caches/pypoetry/virtualenvs/deal-droid-Yh1ExAlx-py3.12/lib/python3.12/site-packages (from opentelemetry-exporter-otlp-proto-grpc>=1.2.0->chromadb<0.6.0,>=0.4.0->langchain-chroma) (1.63.2)\n",
      "Requirement already satisfied: opentelemetry-exporter-otlp-proto-common==1.25.0 in /Users/apirak/Library/Caches/pypoetry/virtualenvs/deal-droid-Yh1ExAlx-py3.12/lib/python3.12/site-packages (from opentelemetry-exporter-otlp-proto-grpc>=1.2.0->chromadb<0.6.0,>=0.4.0->langchain-chroma) (1.25.0)\n",
      "Requirement already satisfied: opentelemetry-proto==1.25.0 in /Users/apirak/Library/Caches/pypoetry/virtualenvs/deal-droid-Yh1ExAlx-py3.12/lib/python3.12/site-packages (from opentelemetry-exporter-otlp-proto-grpc>=1.2.0->chromadb<0.6.0,>=0.4.0->langchain-chroma) (1.25.0)\n",
      "Requirement already satisfied: opentelemetry-instrumentation-asgi==0.46b0 in /Users/apirak/Library/Caches/pypoetry/virtualenvs/deal-droid-Yh1ExAlx-py3.12/lib/python3.12/site-packages (from opentelemetry-instrumentation-fastapi>=0.41b0->chromadb<0.6.0,>=0.4.0->langchain-chroma) (0.46b0)\n",
      "Requirement already satisfied: opentelemetry-instrumentation==0.46b0 in /Users/apirak/Library/Caches/pypoetry/virtualenvs/deal-droid-Yh1ExAlx-py3.12/lib/python3.12/site-packages (from opentelemetry-instrumentation-fastapi>=0.41b0->chromadb<0.6.0,>=0.4.0->langchain-chroma) (0.46b0)\n",
      "Requirement already satisfied: opentelemetry-semantic-conventions==0.46b0 in /Users/apirak/Library/Caches/pypoetry/virtualenvs/deal-droid-Yh1ExAlx-py3.12/lib/python3.12/site-packages (from opentelemetry-instrumentation-fastapi>=0.41b0->chromadb<0.6.0,>=0.4.0->langchain-chroma) (0.46b0)\n",
      "Requirement already satisfied: opentelemetry-util-http==0.46b0 in /Users/apirak/Library/Caches/pypoetry/virtualenvs/deal-droid-Yh1ExAlx-py3.12/lib/python3.12/site-packages (from opentelemetry-instrumentation-fastapi>=0.41b0->chromadb<0.6.0,>=0.4.0->langchain-chroma) (0.46b0)\n",
      "Requirement already satisfied: setuptools>=16.0 in /Users/apirak/Library/Caches/pypoetry/virtualenvs/deal-droid-Yh1ExAlx-py3.12/lib/python3.12/site-packages (from opentelemetry-instrumentation==0.46b0->opentelemetry-instrumentation-fastapi>=0.41b0->chromadb<0.6.0,>=0.4.0->langchain-chroma) (70.1.0)\n",
      "Requirement already satisfied: wrapt<2.0.0,>=1.0.0 in /Users/apirak/Library/Caches/pypoetry/virtualenvs/deal-droid-Yh1ExAlx-py3.12/lib/python3.12/site-packages (from opentelemetry-instrumentation==0.46b0->opentelemetry-instrumentation-fastapi>=0.41b0->chromadb<0.6.0,>=0.4.0->langchain-chroma) (1.16.0)\n",
      "Requirement already satisfied: asgiref~=3.0 in /Users/apirak/Library/Caches/pypoetry/virtualenvs/deal-droid-Yh1ExAlx-py3.12/lib/python3.12/site-packages (from opentelemetry-instrumentation-asgi==0.46b0->opentelemetry-instrumentation-fastapi>=0.41b0->chromadb<0.6.0,>=0.4.0->langchain-chroma) (3.8.1)\n",
      "Requirement already satisfied: monotonic>=1.5 in /Users/apirak/Library/Caches/pypoetry/virtualenvs/deal-droid-Yh1ExAlx-py3.12/lib/python3.12/site-packages (from posthog>=2.4.0->chromadb<0.6.0,>=0.4.0->langchain-chroma) (1.6)\n",
      "Requirement already satisfied: backoff>=1.10.0 in /Users/apirak/Library/Caches/pypoetry/virtualenvs/deal-droid-Yh1ExAlx-py3.12/lib/python3.12/site-packages (from posthog>=2.4.0->chromadb<0.6.0,>=0.4.0->langchain-chroma) (2.2.1)\n",
      "Requirement already satisfied: annotated-types>=0.4.0 in /Users/apirak/Library/Caches/pypoetry/virtualenvs/deal-droid-Yh1ExAlx-py3.12/lib/python3.12/site-packages (from pydantic>=1.9->chromadb<0.6.0,>=0.4.0->langchain-chroma) (0.7.0)\n",
      "Requirement already satisfied: pydantic-core==2.18.4 in /Users/apirak/Library/Caches/pypoetry/virtualenvs/deal-droid-Yh1ExAlx-py3.12/lib/python3.12/site-packages (from pydantic>=1.9->chromadb<0.6.0,>=0.4.0->langchain-chroma) (2.18.4)\n",
      "Requirement already satisfied: charset-normalizer<4,>=2 in /Users/apirak/Library/Caches/pypoetry/virtualenvs/deal-droid-Yh1ExAlx-py3.12/lib/python3.12/site-packages (from requests>=2.28->chromadb<0.6.0,>=0.4.0->langchain-chroma) (3.3.2)\n",
      "Requirement already satisfied: huggingface-hub<1.0,>=0.16.4 in /Users/apirak/Library/Caches/pypoetry/virtualenvs/deal-droid-Yh1ExAlx-py3.12/lib/python3.12/site-packages (from tokenizers>=0.13.2->chromadb<0.6.0,>=0.4.0->langchain-chroma) (0.23.4)\n",
      "Requirement already satisfied: click>=8.0.0 in /Users/apirak/Library/Caches/pypoetry/virtualenvs/deal-droid-Yh1ExAlx-py3.12/lib/python3.12/site-packages (from typer>=0.9.0->chromadb<0.6.0,>=0.4.0->langchain-chroma) (8.1.7)\n",
      "Requirement already satisfied: shellingham>=1.3.0 in /Users/apirak/Library/Caches/pypoetry/virtualenvs/deal-droid-Yh1ExAlx-py3.12/lib/python3.12/site-packages (from typer>=0.9.0->chromadb<0.6.0,>=0.4.0->langchain-chroma) (1.5.4)\n",
      "Requirement already satisfied: rich>=10.11.0 in /Users/apirak/Library/Caches/pypoetry/virtualenvs/deal-droid-Yh1ExAlx-py3.12/lib/python3.12/site-packages (from typer>=0.9.0->chromadb<0.6.0,>=0.4.0->langchain-chroma) (13.7.1)\n",
      "Requirement already satisfied: httptools>=0.5.0 in /Users/apirak/Library/Caches/pypoetry/virtualenvs/deal-droid-Yh1ExAlx-py3.12/lib/python3.12/site-packages (from uvicorn[standard]>=0.18.3->chromadb<0.6.0,>=0.4.0->langchain-chroma) (0.6.1)\n",
      "Requirement already satisfied: python-dotenv>=0.13 in /Users/apirak/Library/Caches/pypoetry/virtualenvs/deal-droid-Yh1ExAlx-py3.12/lib/python3.12/site-packages (from uvicorn[standard]>=0.18.3->chromadb<0.6.0,>=0.4.0->langchain-chroma) (1.0.1)\n",
      "Requirement already satisfied: uvloop!=0.15.0,!=0.15.1,>=0.14.0 in /Users/apirak/Library/Caches/pypoetry/virtualenvs/deal-droid-Yh1ExAlx-py3.12/lib/python3.12/site-packages (from uvicorn[standard]>=0.18.3->chromadb<0.6.0,>=0.4.0->langchain-chroma) (0.19.0)\n",
      "Requirement already satisfied: watchfiles>=0.13 in /Users/apirak/Library/Caches/pypoetry/virtualenvs/deal-droid-Yh1ExAlx-py3.12/lib/python3.12/site-packages (from uvicorn[standard]>=0.18.3->chromadb<0.6.0,>=0.4.0->langchain-chroma) (0.22.0)\n",
      "Requirement already satisfied: websockets>=10.4 in /Users/apirak/Library/Caches/pypoetry/virtualenvs/deal-droid-Yh1ExAlx-py3.12/lib/python3.12/site-packages (from uvicorn[standard]>=0.18.3->chromadb<0.6.0,>=0.4.0->langchain-chroma) (12.0)\n",
      "Requirement already satisfied: cachetools<6.0,>=2.0.0 in /Users/apirak/Library/Caches/pypoetry/virtualenvs/deal-droid-Yh1ExAlx-py3.12/lib/python3.12/site-packages (from google-auth>=1.0.1->kubernetes>=28.1.0->chromadb<0.6.0,>=0.4.0->langchain-chroma) (5.3.3)\n",
      "Requirement already satisfied: pyasn1-modules>=0.2.1 in /Users/apirak/Library/Caches/pypoetry/virtualenvs/deal-droid-Yh1ExAlx-py3.12/lib/python3.12/site-packages (from google-auth>=1.0.1->kubernetes>=28.1.0->chromadb<0.6.0,>=0.4.0->langchain-chroma) (0.4.0)\n",
      "Requirement already satisfied: rsa<5,>=3.1.4 in /Users/apirak/Library/Caches/pypoetry/virtualenvs/deal-droid-Yh1ExAlx-py3.12/lib/python3.12/site-packages (from google-auth>=1.0.1->kubernetes>=28.1.0->chromadb<0.6.0,>=0.4.0->langchain-chroma) (4.9)\n",
      "Requirement already satisfied: filelock in /Users/apirak/Library/Caches/pypoetry/virtualenvs/deal-droid-Yh1ExAlx-py3.12/lib/python3.12/site-packages (from huggingface-hub<1.0,>=0.16.4->tokenizers>=0.13.2->chromadb<0.6.0,>=0.4.0->langchain-chroma) (3.15.4)\n",
      "Requirement already satisfied: fsspec>=2023.5.0 in /Users/apirak/Library/Caches/pypoetry/virtualenvs/deal-droid-Yh1ExAlx-py3.12/lib/python3.12/site-packages (from huggingface-hub<1.0,>=0.16.4->tokenizers>=0.13.2->chromadb<0.6.0,>=0.4.0->langchain-chroma) (2024.6.0)\n",
      "Requirement already satisfied: zipp>=0.5 in /Users/apirak/Library/Caches/pypoetry/virtualenvs/deal-droid-Yh1ExAlx-py3.12/lib/python3.12/site-packages (from importlib-metadata<=7.1,>=6.0->opentelemetry-api>=1.2.0->chromadb<0.6.0,>=0.4.0->langchain-chroma) (3.19.2)\n",
      "Requirement already satisfied: markdown-it-py>=2.2.0 in /Users/apirak/Library/Caches/pypoetry/virtualenvs/deal-droid-Yh1ExAlx-py3.12/lib/python3.12/site-packages (from rich>=10.11.0->typer>=0.9.0->chromadb<0.6.0,>=0.4.0->langchain-chroma) (3.0.0)\n",
      "Requirement already satisfied: pygments<3.0.0,>=2.13.0 in /Users/apirak/Library/Caches/pypoetry/virtualenvs/deal-droid-Yh1ExAlx-py3.12/lib/python3.12/site-packages (from rich>=10.11.0->typer>=0.9.0->chromadb<0.6.0,>=0.4.0->langchain-chroma) (2.18.0)\n",
      "Requirement already satisfied: humanfriendly>=9.1 in /Users/apirak/Library/Caches/pypoetry/virtualenvs/deal-droid-Yh1ExAlx-py3.12/lib/python3.12/site-packages (from coloredlogs->onnxruntime>=1.14.1->chromadb<0.6.0,>=0.4.0->langchain-chroma) (10.0)\n",
      "Requirement already satisfied: mpmath<1.4.0,>=1.1.0 in /Users/apirak/Library/Caches/pypoetry/virtualenvs/deal-droid-Yh1ExAlx-py3.12/lib/python3.12/site-packages (from sympy->onnxruntime>=1.14.1->chromadb<0.6.0,>=0.4.0->langchain-chroma) (1.3.0)\n",
      "Requirement already satisfied: mdurl~=0.1 in /Users/apirak/Library/Caches/pypoetry/virtualenvs/deal-droid-Yh1ExAlx-py3.12/lib/python3.12/site-packages (from markdown-it-py>=2.2.0->rich>=10.11.0->typer>=0.9.0->chromadb<0.6.0,>=0.4.0->langchain-chroma) (0.1.2)\n",
      "Requirement already satisfied: pyasn1<0.7.0,>=0.4.6 in /Users/apirak/Library/Caches/pypoetry/virtualenvs/deal-droid-Yh1ExAlx-py3.12/lib/python3.12/site-packages (from pyasn1-modules>=0.2.1->google-auth>=1.0.1->kubernetes>=28.1.0->chromadb<0.6.0,>=0.4.0->langchain-chroma) (0.6.0)\n",
      "Note: you may need to restart the kernel to use updated packages.\n"
     ]
    }
   ],
   "source": [
    "%pip install langchain\n",
    "%pip install python-dotenv\n",
    "%pip install -qU langchain-openai\n",
    "%pip install langchain-chroma"
   ]
  },
  {
   "cell_type": "code",
   "execution_count": 31,
   "metadata": {},
   "outputs": [],
   "source": [
    "# export LANGCHAIN_TRACING_V2=\"true\"\n",
    "# export LANGCHAIN_API_KEY=\"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\"\n",
    "\n",
    "# import getpass\n",
    "# import os\n",
    "\n",
    "# os.environ[\"LANGCHAIN_TRACING_V2\"] = \"true\"\n",
    "# os.environ[\"LANGCHAIN_API_KEY\"] = getpass.getpass()"
   ]
  },
  {
   "cell_type": "code",
   "execution_count": 32,
   "metadata": {},
   "outputs": [],
   "source": [
    "from langchain_core.documents import Document\n",
    "\n",
    "documents = [\n",
    "    Document(\n",
    "        page_content=\"Dogs are great companions, known for their loyalty and friendliness.\",\n",
    "        metadata={\"source\": \"mammal-pets-doc\"},\n",
    "    ),\n",
    "    Document(\n",
    "        page_content=\"Cats are independent pets that often enjoy their own space.\",\n",
    "        metadata={\"source\": \"mammal-pets-doc\"},\n",
    "    ),\n",
    "    Document(\n",
    "        page_content=\"Goldfish are popular pets for beginners, requiring relatively simple care.\",\n",
    "        metadata={\"source\": \"fish-pets-doc\"},\n",
    "    ),\n",
    "    Document(\n",
    "        page_content=\"Parrots are intelligent birds capable of mimicking human speech.\",\n",
    "        metadata={\"source\": \"bird-pets-doc\"},\n",
    "    ),\n",
    "    Document(\n",
    "        page_content=\"Rabbits are social animals that need plenty of space to hop around.\",\n",
    "        metadata={\"source\": \"mammal-pets-doc\"},\n",
    "    ),\n",
    "]"
   ]
  },
  {
   "cell_type": "code",
   "execution_count": 33,
   "metadata": {},
   "outputs": [],
   "source": [
    "import os\n",
    "import getpass\n",
    "from dotenv import load_dotenv\n",
    "from langchain_core.messages import HumanMessage\n",
    "from langchain_core.messages import AIMessage\n",
    "from langchain_community.chat_message_histories import ChatMessageHistory\n",
    "from langchain_core.chat_history import BaseChatMessageHistory\n",
    "from langchain_core.runnables.history import RunnableWithMessageHistory\n",
    "from langchain_chroma import Chroma\n",
    "from langchain_openai import ChatOpenAI\n",
    "from langchain_openai import OpenAIEmbeddings\n",
    "\n",
    "# Load environment variables from .env file\n",
    "load_dotenv()\n",
    "\n",
    "open_ai_key = os.getenv('OPEN_AI_KEY')\n",
    "open_ai_org = os.getenv('OPEN_AI_ORG')\n",
    "\n",
    "os.environ[\"OPENAI_API_KEY\"] = open_ai_key\n",
    "\n",
    "model = ChatOpenAI(\n",
    "    openai_api_key=open_ai_key,\n",
    "    openai_organization=open_ai_org,\n",
    "    max_tokens=1000,\n",
    "    model=\"gpt-4\"\n",
    ")\n",
    "\n",
    "embeddings = OpenAIEmbeddings(\n",
    "    openai_api_key=open_ai_key,\n",
    "    openai_organization=open_ai_org\n",
    ")\n",
    "\n",
    "vectorstore = Chroma.from_documents(\n",
    "    documents,\n",
    "    embedding=embeddings,\n",
    ")\n",
    "\n",
    "# vectorstore = Chroma.from_documents(\n",
    "#     documents,\n",
    "#     embedding=OpenAIEmbeddings(),\n",
    "# )\n"
   ]
  },
  {
   "cell_type": "code",
   "execution_count": 34,
   "metadata": {},
   "outputs": [
    {
     "data": {
      "text/plain": [
       "[Document(page_content='Cats are independent pets that often enjoy their own space.', metadata={'source': 'mammal-pets-doc'}),\n",
       " Document(page_content='Cats are independent pets that often enjoy their own space.', metadata={'source': 'mammal-pets-doc'}),\n",
       " Document(page_content='Cats are independent pets that often enjoy their own space.', metadata={'source': 'mammal-pets-doc'}),\n",
       " Document(page_content='Dogs are great companions, known for their loyalty and friendliness.', metadata={'source': 'mammal-pets-doc'})]"
      ]
     },
     "execution_count": 34,
     "metadata": {},
     "output_type": "execute_result"
    }
   ],
   "source": [
    "vectorstore.similarity_search(\"cat\")"
   ]
  },
  {
   "cell_type": "code",
   "execution_count": 22,
   "metadata": {},
   "outputs": [
    {
     "data": {
      "text/plain": [
       "[Document(page_content='Cats are independent pets that often enjoy their own space.', metadata={'source': 'mammal-pets-doc'}),\n",
       " Document(page_content='Cats are independent pets that often enjoy their own space.', metadata={'source': 'mammal-pets-doc'}),\n",
       " Document(page_content='Dogs are great companions, known for their loyalty and friendliness.', metadata={'source': 'mammal-pets-doc'}),\n",
       " Document(page_content='Dogs are great companions, known for their loyalty and friendliness.', metadata={'source': 'mammal-pets-doc'})]"
      ]
     },
     "execution_count": 22,
     "metadata": {},
     "output_type": "execute_result"
    }
   ],
   "source": [
    "await vectorstore.asimilarity_search(\"cat\")"
   ]
  },
  {
   "cell_type": "code",
   "execution_count": 16,
   "metadata": {},
   "outputs": [
    {
     "data": {
      "text/plain": [
       "[(Document(page_content='Goldfish are popular pets for beginners, requiring relatively simple care.', metadata={'source': 'fish-pets-doc'}),\n",
       "  0.192320317029953),\n",
       " (Document(page_content='Goldfish are popular pets for beginners, requiring relatively simple care.', metadata={'source': 'fish-pets-doc'}),\n",
       "  0.19268865883350372),\n",
       " (Document(page_content='Dogs are great companions, known for their loyalty and friendliness.', metadata={'source': 'mammal-pets-doc'}),\n",
       "  0.457475483417511),\n",
       " (Document(page_content='Dogs are great companions, known for their loyalty and friendliness.', metadata={'source': 'mammal-pets-doc'}),\n",
       "  0.4581882953643799)]"
      ]
     },
     "execution_count": 16,
     "metadata": {},
     "output_type": "execute_result"
    }
   ],
   "source": [
    "vectorstore.similarity_search_with_score(\"Goldfish\")"
   ]
  },
  {
   "cell_type": "code",
   "execution_count": 35,
   "metadata": {},
   "outputs": [
    {
     "data": {
      "text/plain": [
       "[Document(page_content='Dogs are great companions, known for their loyalty and friendliness.', metadata={'source': 'mammal-pets-doc'}),\n",
       " Document(page_content='Dogs are great companions, known for their loyalty and friendliness.', metadata={'source': 'mammal-pets-doc'}),\n",
       " Document(page_content='Dogs are great companions, known for their loyalty and friendliness.', metadata={'source': 'mammal-pets-doc'}),\n",
       " Document(page_content='Cats are independent pets that often enjoy their own space.', metadata={'source': 'mammal-pets-doc'})]"
      ]
     },
     "execution_count": 35,
     "metadata": {},
     "output_type": "execute_result"
    }
   ],
   "source": [
    "# embedding = OpenAIEmbeddings().embed_query(\"cat\")\n",
    "\n",
    "embedding_cat = OpenAIEmbeddings(\n",
    "    openai_api_key=open_ai_key,\n",
    "    openai_organization=open_ai_org\n",
    ").embed_query(\"dog\")\n",
    "\n",
    "vectorstore.similarity_search_by_vector(embedding_cat)"
   ]
  },
  {
   "cell_type": "markdown",
   "metadata": {},
   "source": [
    "# Retriever"
   ]
  },
  {
   "cell_type": "code",
   "execution_count": 36,
   "metadata": {},
   "outputs": [
    {
     "name": "stderr",
     "output_type": "stream",
     "text": [
      "--- Logging error ---\n",
      "Traceback (most recent call last):\n",
      "  File \"/Users/apirak/Library/Caches/pypoetry/virtualenvs/deal-droid-Yh1ExAlx-py3.12/lib/python3.12/site-packages/langchain_core/callbacks/manager.py\", line 2009, in _configure\n",
      "    handler = LangChainTracer(\n",
      "              ^^^^^^^^^^^^^^^^\n",
      "  File \"/Users/apirak/Library/Caches/pypoetry/virtualenvs/deal-droid-Yh1ExAlx-py3.12/lib/python3.12/site-packages/langchain_core/tracers/langchain.py\", line 91, in __init__\n",
      "    self.client = client or get_client()\n",
      "                            ^^^^^^^^^^^^\n",
      "  File \"/Users/apirak/Library/Caches/pypoetry/virtualenvs/deal-droid-Yh1ExAlx-py3.12/lib/python3.12/site-packages/langchain_core/tracers/langchain.py\", line 54, in get_client\n",
      "    _CLIENT = Client()\n",
      "              ^^^^^^^^\n",
      "  File \"/Users/apirak/Library/Caches/pypoetry/virtualenvs/deal-droid-Yh1ExAlx-py3.12/lib/python3.12/site-packages/langsmith/client.py\", line 540, in __init__\n",
      "    _validate_api_key_if_hosted(self.api_url, self.api_key)\n",
      "  File \"/Users/apirak/Library/Caches/pypoetry/virtualenvs/deal-droid-Yh1ExAlx-py3.12/lib/python3.12/site-packages/langsmith/client.py\", line 324, in _validate_api_key_if_hosted\n",
      "    raise ls_utils.LangSmithUserError(\n",
      "langsmith.utils.LangSmithUserError: API key must be provided when using hosted LangSmith API\n",
      "\n",
      "During handling of the above exception, another exception occurred:\n",
      "\n",
      "Traceback (most recent call last):\n",
      "  File \"/opt/homebrew/Cellar/python@3.12/3.12.4/Frameworks/Python.framework/Versions/3.12/lib/python3.12/logging/__init__.py\", line 1160, in emit\n",
      "    msg = self.format(record)\n",
      "          ^^^^^^^^^^^^^^^^^^^\n",
      "  File \"/opt/homebrew/Cellar/python@3.12/3.12.4/Frameworks/Python.framework/Versions/3.12/lib/python3.12/logging/__init__.py\", line 999, in format\n",
      "    return fmt.format(record)\n",
      "           ^^^^^^^^^^^^^^^^^^\n",
      "  File \"/opt/homebrew/Cellar/python@3.12/3.12.4/Frameworks/Python.framework/Versions/3.12/lib/python3.12/logging/__init__.py\", line 703, in format\n",
      "    record.message = record.getMessage()\n",
      "                     ^^^^^^^^^^^^^^^^^^^\n",
      "  File \"/opt/homebrew/Cellar/python@3.12/3.12.4/Frameworks/Python.framework/Versions/3.12/lib/python3.12/logging/__init__.py\", line 392, in getMessage\n",
      "    msg = msg % self.args\n",
      "          ~~~~^~~~~~~~~~~\n",
      "TypeError: not all arguments converted during string formatting\n",
      "Call stack:\n",
      "  File \"/opt/homebrew/Cellar/python@3.12/3.12.4/Frameworks/Python.framework/Versions/3.12/lib/python3.12/threading.py\", line 1030, in _bootstrap\n",
      "    self._bootstrap_inner()\n",
      "  File \"/opt/homebrew/Cellar/python@3.12/3.12.4/Frameworks/Python.framework/Versions/3.12/lib/python3.12/threading.py\", line 1073, in _bootstrap_inner\n",
      "    self.run()\n",
      "  File \"/Users/apirak/Library/Caches/pypoetry/virtualenvs/deal-droid-Yh1ExAlx-py3.12/lib/python3.12/site-packages/ipykernel/ipkernel.py\", line 766, in run_closure\n",
      "    _threading_Thread_run(self)\n",
      "  File \"/opt/homebrew/Cellar/python@3.12/3.12.4/Frameworks/Python.framework/Versions/3.12/lib/python3.12/threading.py\", line 1010, in run\n",
      "    self._target(*self._args, **self._kwargs)\n",
      "  File \"/opt/homebrew/Cellar/python@3.12/3.12.4/Frameworks/Python.framework/Versions/3.12/lib/python3.12/concurrent/futures/thread.py\", line 92, in _worker\n",
      "    work_item.run()\n",
      "  File \"/opt/homebrew/Cellar/python@3.12/3.12.4/Frameworks/Python.framework/Versions/3.12/lib/python3.12/concurrent/futures/thread.py\", line 58, in run\n",
      "    result = self.fn(*self.args, **self.kwargs)\n",
      "  File \"/Users/apirak/Library/Caches/pypoetry/virtualenvs/deal-droid-Yh1ExAlx-py3.12/lib/python3.12/site-packages/langchain_core/runnables/config.py\", line 499, in _wrapped_fn\n",
      "    return contexts.pop().run(fn, *args)\n",
      "  File \"/Users/apirak/Library/Caches/pypoetry/virtualenvs/deal-droid-Yh1ExAlx-py3.12/lib/python3.12/site-packages/langchain_core/runnables/base.py\", line 635, in invoke\n",
      "    return self.invoke(input, config, **kwargs)\n",
      "  File \"/Users/apirak/Library/Caches/pypoetry/virtualenvs/deal-droid-Yh1ExAlx-py3.12/lib/python3.12/site-packages/langchain_core/runnables/base.py\", line 3976, in invoke\n",
      "    return self._call_with_config(\n",
      "  File \"/Users/apirak/Library/Caches/pypoetry/virtualenvs/deal-droid-Yh1ExAlx-py3.12/lib/python3.12/site-packages/langchain_core/runnables/base.py\", line 1584, in _call_with_config\n",
      "    callback_manager = get_callback_manager_for_config(config)\n",
      "  File \"/Users/apirak/Library/Caches/pypoetry/virtualenvs/deal-droid-Yh1ExAlx-py3.12/lib/python3.12/site-packages/langchain_core/runnables/config.py\", line 435, in get_callback_manager_for_config\n",
      "    return CallbackManager.configure(\n",
      "  File \"/Users/apirak/Library/Caches/pypoetry/virtualenvs/deal-droid-Yh1ExAlx-py3.12/lib/python3.12/site-packages/langchain_core/callbacks/manager.py\", line 1449, in configure\n",
      "    return _configure(\n",
      "  File \"/Users/apirak/Library/Caches/pypoetry/virtualenvs/deal-droid-Yh1ExAlx-py3.12/lib/python3.12/site-packages/langchain_core/callbacks/manager.py\", line 2015, in _configure\n",
      "    logger.warning(\n",
      "Message: 'Unable to load requested LangChainTracer. To disable this warning, unset the LANGCHAIN_TRACING_V2 environment variables.'\n",
      "Arguments: (\"LangSmithUserError('API key must be provided when using hosted LangSmith API')\",)\n",
      "--- Logging error ---\n",
      "Traceback (most recent call last):\n",
      "  File \"/Users/apirak/Library/Caches/pypoetry/virtualenvs/deal-droid-Yh1ExAlx-py3.12/lib/python3.12/site-packages/langchain_core/callbacks/manager.py\", line 2009, in _configure\n",
      "    handler = LangChainTracer(\n",
      "              ^^^^^^^^^^^^^^^^\n",
      "  File \"/Users/apirak/Library/Caches/pypoetry/virtualenvs/deal-droid-Yh1ExAlx-py3.12/lib/python3.12/site-packages/langchain_core/tracers/langchain.py\", line 91, in __init__\n",
      "    self.client = client or get_client()\n",
      "                            ^^^^^^^^^^^^\n",
      "  File \"/Users/apirak/Library/Caches/pypoetry/virtualenvs/deal-droid-Yh1ExAlx-py3.12/lib/python3.12/site-packages/langchain_core/tracers/langchain.py\", line 54, in get_client\n",
      "    _CLIENT = Client()\n",
      "              ^^^^^^^^\n",
      "  File \"/Users/apirak/Library/Caches/pypoetry/virtualenvs/deal-droid-Yh1ExAlx-py3.12/lib/python3.12/site-packages/langsmith/client.py\", line 540, in __init__\n",
      "    _validate_api_key_if_hosted(self.api_url, self.api_key)\n",
      "  File \"/Users/apirak/Library/Caches/pypoetry/virtualenvs/deal-droid-Yh1ExAlx-py3.12/lib/python3.12/site-packages/langsmith/client.py\", line 324, in _validate_api_key_if_hosted\n",
      "    raise ls_utils.LangSmithUserError(\n",
      "langsmith.utils.LangSmithUserError: API key must be provided when using hosted LangSmith API\n",
      "\n",
      "During handling of the above exception, another exception occurred:\n",
      "\n",
      "Traceback (most recent call last):\n",
      "  File \"/opt/homebrew/Cellar/python@3.12/3.12.4/Frameworks/Python.framework/Versions/3.12/lib/python3.12/logging/__init__.py\", line 1160, in emit\n",
      "    msg = self.format(record)\n",
      "          ^^^^^^^^^^^^^^^^^^^\n",
      "  File \"/opt/homebrew/Cellar/python@3.12/3.12.4/Frameworks/Python.framework/Versions/3.12/lib/python3.12/logging/__init__.py\", line 999, in format\n",
      "    return fmt.format(record)\n",
      "           ^^^^^^^^^^^^^^^^^^\n",
      "  File \"/opt/homebrew/Cellar/python@3.12/3.12.4/Frameworks/Python.framework/Versions/3.12/lib/python3.12/logging/__init__.py\", line 703, in format\n",
      "    record.message = record.getMessage()\n",
      "                     ^^^^^^^^^^^^^^^^^^^\n",
      "  File \"/opt/homebrew/Cellar/python@3.12/3.12.4/Frameworks/Python.framework/Versions/3.12/lib/python3.12/logging/__init__.py\", line 392, in getMessage\n",
      "    msg = msg % self.args\n",
      "          ~~~~^~~~~~~~~~~\n",
      "TypeError: not all arguments converted during string formatting\n",
      "Call stack:\n",
      "  File \"/opt/homebrew/Cellar/python@3.12/3.12.4/Frameworks/Python.framework/Versions/3.12/lib/python3.12/threading.py\", line 1030, in _bootstrap\n",
      "    self._bootstrap_inner()\n",
      "  File \"/opt/homebrew/Cellar/python@3.12/3.12.4/Frameworks/Python.framework/Versions/3.12/lib/python3.12/threading.py\", line 1073, in _bootstrap_inner\n",
      "    self.run()\n",
      "  File \"/Users/apirak/Library/Caches/pypoetry/virtualenvs/deal-droid-Yh1ExAlx-py3.12/lib/python3.12/site-packages/ipykernel/ipkernel.py\", line 766, in run_closure\n",
      "    _threading_Thread_run(self)\n",
      "  File \"/opt/homebrew/Cellar/python@3.12/3.12.4/Frameworks/Python.framework/Versions/3.12/lib/python3.12/threading.py\", line 1010, in run\n",
      "    self._target(*self._args, **self._kwargs)\n",
      "  File \"/opt/homebrew/Cellar/python@3.12/3.12.4/Frameworks/Python.framework/Versions/3.12/lib/python3.12/concurrent/futures/thread.py\", line 92, in _worker\n",
      "    work_item.run()\n",
      "  File \"/opt/homebrew/Cellar/python@3.12/3.12.4/Frameworks/Python.framework/Versions/3.12/lib/python3.12/concurrent/futures/thread.py\", line 58, in run\n",
      "    result = self.fn(*self.args, **self.kwargs)\n",
      "  File \"/Users/apirak/Library/Caches/pypoetry/virtualenvs/deal-droid-Yh1ExAlx-py3.12/lib/python3.12/site-packages/langchain_core/runnables/config.py\", line 499, in _wrapped_fn\n",
      "    return contexts.pop().run(fn, *args)\n",
      "  File \"/Users/apirak/Library/Caches/pypoetry/virtualenvs/deal-droid-Yh1ExAlx-py3.12/lib/python3.12/site-packages/langchain_core/runnables/base.py\", line 635, in invoke\n",
      "    return self.invoke(input, config, **kwargs)\n",
      "  File \"/Users/apirak/Library/Caches/pypoetry/virtualenvs/deal-droid-Yh1ExAlx-py3.12/lib/python3.12/site-packages/langchain_core/runnables/base.py\", line 3976, in invoke\n",
      "    return self._call_with_config(\n",
      "  File \"/Users/apirak/Library/Caches/pypoetry/virtualenvs/deal-droid-Yh1ExAlx-py3.12/lib/python3.12/site-packages/langchain_core/runnables/base.py\", line 1584, in _call_with_config\n",
      "    callback_manager = get_callback_manager_for_config(config)\n",
      "  File \"/Users/apirak/Library/Caches/pypoetry/virtualenvs/deal-droid-Yh1ExAlx-py3.12/lib/python3.12/site-packages/langchain_core/runnables/config.py\", line 435, in get_callback_manager_for_config\n",
      "    return CallbackManager.configure(\n",
      "  File \"/Users/apirak/Library/Caches/pypoetry/virtualenvs/deal-droid-Yh1ExAlx-py3.12/lib/python3.12/site-packages/langchain_core/callbacks/manager.py\", line 1449, in configure\n",
      "    return _configure(\n",
      "  File \"/Users/apirak/Library/Caches/pypoetry/virtualenvs/deal-droid-Yh1ExAlx-py3.12/lib/python3.12/site-packages/langchain_core/callbacks/manager.py\", line 2015, in _configure\n",
      "    logger.warning(\n",
      "Message: 'Unable to load requested LangChainTracer. To disable this warning, unset the LANGCHAIN_TRACING_V2 environment variables.'\n",
      "Arguments: (\"LangSmithUserError('API key must be provided when using hosted LangSmith API')\",)\n"
     ]
    },
    {
     "data": {
      "text/plain": [
       "[[Document(page_content='Cats are independent pets that often enjoy their own space.', metadata={'source': 'mammal-pets-doc'})],\n",
       " [Document(page_content='Goldfish are popular pets for beginners, requiring relatively simple care.', metadata={'source': 'fish-pets-doc'})]]"
      ]
     },
     "execution_count": 36,
     "metadata": {},
     "output_type": "execute_result"
    }
   ],
   "source": [
    "from typing import List\n",
    "\n",
    "from langchain_core.documents import Document\n",
    "from langchain_core.runnables import RunnableLambda\n",
    "\n",
    "retriever = RunnableLambda(vectorstore.similarity_search).bind(k=1)  # select top result\n",
    "\n",
    "retriever.batch([\"cat\", \"shark\"])"
   ]
  },
  {
   "cell_type": "code",
   "execution_count": 20,
   "metadata": {},
   "outputs": [
    {
     "data": {
      "text/plain": [
       "[[Document(page_content='Cats are independent pets that often enjoy their own space.', metadata={'source': 'mammal-pets-doc'})],\n",
       " [Document(page_content='Goldfish are popular pets for beginners, requiring relatively simple care.', metadata={'source': 'fish-pets-doc'})]]"
      ]
     },
     "execution_count": 20,
     "metadata": {},
     "output_type": "execute_result"
    }
   ],
   "source": [
    "retriever = vectorstore.as_retriever(\n",
    "    search_type=\"similarity\",\n",
    "    search_kwargs={\"k\": 1},\n",
    ")\n",
    "\n",
    "retriever.batch([\"cat\", \"shark\"])"
   ]
  },
  {
   "cell_type": "markdown",
   "metadata": {},
   "source": [
    "# Retriever for OpenAI"
   ]
  },
  {
   "cell_type": "code",
   "execution_count": 24,
   "metadata": {},
   "outputs": [
    {
     "name": "stdout",
     "output_type": "stream",
     "text": [
      "Note: you may need to restart the kernel to use updated packages.\n"
     ]
    }
   ],
   "source": [
    "%pip install -qU langchain-openai"
   ]
  },
  {
   "cell_type": "code",
   "execution_count": 26,
   "metadata": {},
   "outputs": [],
   "source": [
    "import getpass\n",
    "import os\n",
    "\n",
    "from langchain_openai import ChatOpenAI\n",
    "\n",
    "llm = ChatOpenAI(\n",
    "    openai_api_key=open_ai_key,\n",
    "    openai_organization=open_ai_org,\n",
    "    max_tokens=1000,\n",
    "    model=\"gpt-4\"\n",
    ")"
   ]
  },
  {
   "cell_type": "code",
   "execution_count": 37,
   "metadata": {},
   "outputs": [
    {
     "name": "stdout",
     "output_type": "stream",
     "text": [
      "[HumanMessagePromptTemplate(prompt=PromptTemplate(input_variables=['context', 'question'], template='\\nAnswer this question using the provided context only.\\n\\n{question}\\n\\nContext:\\n{context}\\n'))]\n"
     ]
    }
   ],
   "source": [
    "from langchain_core.prompts import ChatPromptTemplate\n",
    "from langchain_core.runnables import RunnablePassthrough\n",
    "\n",
    "message = \"\"\"\n",
    "Answer this question using the provided context only.\n",
    "\n",
    "{question}\n",
    "\n",
    "Context:\n",
    "{context}\n",
    "\"\"\"\n",
    "\n",
    "prompt = ChatPromptTemplate.from_messages([(\"human\", message)])\n",
    "\n",
    "rag_chain = {\"context\": retriever, \"question\": RunnablePassthrough()} | prompt | llm"
   ]
  },
  {
   "cell_type": "code",
   "execution_count": 28,
   "metadata": {},
   "outputs": [
    {
     "name": "stdout",
     "output_type": "stream",
     "text": [
      "Cats are independent pets that often enjoy their own space.\n"
     ]
    }
   ],
   "source": [
    "response = rag_chain.invoke(\"tell me about cats\")\n",
    "\n",
    "print(response.content)"
   ]
  },
  {
   "cell_type": "code",
   "execution_count": null,
   "metadata": {},
   "outputs": [],
   "source": []
  }
 ],
 "metadata": {
  "kernelspec": {
   "display_name": "Python 3 (ipykernel)",
   "language": "python",
   "name": "python3"
  },
  "language_info": {
   "codemirror_mode": {
    "name": "ipython",
    "version": 3
   },
   "file_extension": ".py",
   "mimetype": "text/x-python",
   "name": "python",
   "nbconvert_exporter": "python",
   "pygments_lexer": "ipython3",
   "version": "3.12.4"
  }
 },
 "nbformat": 4,
 "nbformat_minor": 4
}
