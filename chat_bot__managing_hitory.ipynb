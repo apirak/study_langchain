{
 "cells": [
  {
   "cell_type": "code",
   "execution_count": 4,
   "metadata": {},
   "outputs": [
    {
     "name": "stdout",
     "output_type": "stream",
     "text": [
      "Requirement already satisfied: langchain in /Users/apirak/Library/Caches/pypoetry/virtualenvs/deal-droid-Yh1ExAlx-py3.12/lib/python3.12/site-packages (0.2.3)\n",
      "Requirement already satisfied: PyYAML>=5.3 in /Users/apirak/Library/Caches/pypoetry/virtualenvs/deal-droid-Yh1ExAlx-py3.12/lib/python3.12/site-packages (from langchain) (6.0.1)\n",
      "Requirement already satisfied: SQLAlchemy<3,>=1.4 in /Users/apirak/Library/Caches/pypoetry/virtualenvs/deal-droid-Yh1ExAlx-py3.12/lib/python3.12/site-packages (from langchain) (2.0.31)\n",
      "Requirement already satisfied: aiohttp<4.0.0,>=3.8.3 in /Users/apirak/Library/Caches/pypoetry/virtualenvs/deal-droid-Yh1ExAlx-py3.12/lib/python3.12/site-packages (from langchain) (3.9.5)\n",
      "Requirement already satisfied: langchain-core<0.3.0,>=0.2.0 in /Users/apirak/Library/Caches/pypoetry/virtualenvs/deal-droid-Yh1ExAlx-py3.12/lib/python3.12/site-packages (from langchain) (0.2.9)\n",
      "Requirement already satisfied: langchain-text-splitters<0.3.0,>=0.2.0 in /Users/apirak/Library/Caches/pypoetry/virtualenvs/deal-droid-Yh1ExAlx-py3.12/lib/python3.12/site-packages (from langchain) (0.2.1)\n",
      "Requirement already satisfied: langsmith<0.2.0,>=0.1.17 in /Users/apirak/Library/Caches/pypoetry/virtualenvs/deal-droid-Yh1ExAlx-py3.12/lib/python3.12/site-packages (from langchain) (0.1.81)\n",
      "Requirement already satisfied: numpy<2,>=1 in /Users/apirak/Library/Caches/pypoetry/virtualenvs/deal-droid-Yh1ExAlx-py3.12/lib/python3.12/site-packages (from langchain) (1.26.4)\n",
      "Requirement already satisfied: pydantic<3,>=1 in /Users/apirak/Library/Caches/pypoetry/virtualenvs/deal-droid-Yh1ExAlx-py3.12/lib/python3.12/site-packages (from langchain) (2.7.4)\n",
      "Requirement already satisfied: requests<3,>=2 in /Users/apirak/Library/Caches/pypoetry/virtualenvs/deal-droid-Yh1ExAlx-py3.12/lib/python3.12/site-packages (from langchain) (2.32.3)\n",
      "Requirement already satisfied: tenacity<9.0.0,>=8.1.0 in /Users/apirak/Library/Caches/pypoetry/virtualenvs/deal-droid-Yh1ExAlx-py3.12/lib/python3.12/site-packages (from langchain) (8.4.1)\n",
      "Requirement already satisfied: aiosignal>=1.1.2 in /Users/apirak/Library/Caches/pypoetry/virtualenvs/deal-droid-Yh1ExAlx-py3.12/lib/python3.12/site-packages (from aiohttp<4.0.0,>=3.8.3->langchain) (1.3.1)\n",
      "Requirement already satisfied: attrs>=17.3.0 in /Users/apirak/Library/Caches/pypoetry/virtualenvs/deal-droid-Yh1ExAlx-py3.12/lib/python3.12/site-packages (from aiohttp<4.0.0,>=3.8.3->langchain) (23.2.0)\n",
      "Requirement already satisfied: frozenlist>=1.1.1 in /Users/apirak/Library/Caches/pypoetry/virtualenvs/deal-droid-Yh1ExAlx-py3.12/lib/python3.12/site-packages (from aiohttp<4.0.0,>=3.8.3->langchain) (1.4.1)\n",
      "Requirement already satisfied: multidict<7.0,>=4.5 in /Users/apirak/Library/Caches/pypoetry/virtualenvs/deal-droid-Yh1ExAlx-py3.12/lib/python3.12/site-packages (from aiohttp<4.0.0,>=3.8.3->langchain) (6.0.5)\n",
      "Requirement already satisfied: yarl<2.0,>=1.0 in /Users/apirak/Library/Caches/pypoetry/virtualenvs/deal-droid-Yh1ExAlx-py3.12/lib/python3.12/site-packages (from aiohttp<4.0.0,>=3.8.3->langchain) (1.9.4)\n",
      "Requirement already satisfied: jsonpatch<2.0,>=1.33 in /Users/apirak/Library/Caches/pypoetry/virtualenvs/deal-droid-Yh1ExAlx-py3.12/lib/python3.12/site-packages (from langchain-core<0.3.0,>=0.2.0->langchain) (1.33)\n",
      "Requirement already satisfied: packaging<25,>=23.2 in /Users/apirak/Library/Caches/pypoetry/virtualenvs/deal-droid-Yh1ExAlx-py3.12/lib/python3.12/site-packages (from langchain-core<0.3.0,>=0.2.0->langchain) (23.2)\n",
      "Requirement already satisfied: orjson<4.0.0,>=3.9.14 in /Users/apirak/Library/Caches/pypoetry/virtualenvs/deal-droid-Yh1ExAlx-py3.12/lib/python3.12/site-packages (from langsmith<0.2.0,>=0.1.17->langchain) (3.10.5)\n",
      "Requirement already satisfied: annotated-types>=0.4.0 in /Users/apirak/Library/Caches/pypoetry/virtualenvs/deal-droid-Yh1ExAlx-py3.12/lib/python3.12/site-packages (from pydantic<3,>=1->langchain) (0.7.0)\n",
      "Requirement already satisfied: pydantic-core==2.18.4 in /Users/apirak/Library/Caches/pypoetry/virtualenvs/deal-droid-Yh1ExAlx-py3.12/lib/python3.12/site-packages (from pydantic<3,>=1->langchain) (2.18.4)\n",
      "Requirement already satisfied: typing-extensions>=4.6.1 in /Users/apirak/Library/Caches/pypoetry/virtualenvs/deal-droid-Yh1ExAlx-py3.12/lib/python3.12/site-packages (from pydantic<3,>=1->langchain) (4.12.2)\n",
      "Requirement already satisfied: charset-normalizer<4,>=2 in /Users/apirak/Library/Caches/pypoetry/virtualenvs/deal-droid-Yh1ExAlx-py3.12/lib/python3.12/site-packages (from requests<3,>=2->langchain) (3.3.2)\n",
      "Requirement already satisfied: idna<4,>=2.5 in /Users/apirak/Library/Caches/pypoetry/virtualenvs/deal-droid-Yh1ExAlx-py3.12/lib/python3.12/site-packages (from requests<3,>=2->langchain) (3.7)\n",
      "Requirement already satisfied: urllib3<3,>=1.21.1 in /Users/apirak/Library/Caches/pypoetry/virtualenvs/deal-droid-Yh1ExAlx-py3.12/lib/python3.12/site-packages (from requests<3,>=2->langchain) (2.2.2)\n",
      "Requirement already satisfied: certifi>=2017.4.17 in /Users/apirak/Library/Caches/pypoetry/virtualenvs/deal-droid-Yh1ExAlx-py3.12/lib/python3.12/site-packages (from requests<3,>=2->langchain) (2024.6.2)\n",
      "Requirement already satisfied: jsonpointer>=1.9 in /Users/apirak/Library/Caches/pypoetry/virtualenvs/deal-droid-Yh1ExAlx-py3.12/lib/python3.12/site-packages (from jsonpatch<2.0,>=1.33->langchain-core<0.3.0,>=0.2.0->langchain) (3.0.0)\n",
      "Note: you may need to restart the kernel to use updated packages.\n",
      "Requirement already satisfied: python-dotenv in /Users/apirak/Library/Caches/pypoetry/virtualenvs/deal-droid-Yh1ExAlx-py3.12/lib/python3.12/site-packages (1.0.1)\n",
      "Note: you may need to restart the kernel to use updated packages.\n"
     ]
    }
   ],
   "source": [
    "%pip install langchain\n",
    "%pip install python-dotenv\n"
   ]
  },
  {
   "cell_type": "code",
   "execution_count": 5,
   "metadata": {},
   "outputs": [
    {
     "name": "stdout",
     "output_type": "stream",
     "text": [
      "Requirement already satisfied: langchain-openai in /Users/apirak/Library/Caches/pypoetry/virtualenvs/deal-droid-Yh1ExAlx-py3.12/lib/python3.12/site-packages (0.1.9)\n",
      "Requirement already satisfied: langchain-core<0.3,>=0.2.2 in /Users/apirak/Library/Caches/pypoetry/virtualenvs/deal-droid-Yh1ExAlx-py3.12/lib/python3.12/site-packages (from langchain-openai) (0.2.9)\n",
      "Requirement already satisfied: openai<2.0.0,>=1.26.0 in /Users/apirak/Library/Caches/pypoetry/virtualenvs/deal-droid-Yh1ExAlx-py3.12/lib/python3.12/site-packages (from langchain-openai) (1.35.3)\n",
      "Requirement already satisfied: tiktoken<1,>=0.7 in /Users/apirak/Library/Caches/pypoetry/virtualenvs/deal-droid-Yh1ExAlx-py3.12/lib/python3.12/site-packages (from langchain-openai) (0.7.0)\n",
      "Requirement already satisfied: PyYAML>=5.3 in /Users/apirak/Library/Caches/pypoetry/virtualenvs/deal-droid-Yh1ExAlx-py3.12/lib/python3.12/site-packages (from langchain-core<0.3,>=0.2.2->langchain-openai) (6.0.1)\n",
      "Requirement already satisfied: jsonpatch<2.0,>=1.33 in /Users/apirak/Library/Caches/pypoetry/virtualenvs/deal-droid-Yh1ExAlx-py3.12/lib/python3.12/site-packages (from langchain-core<0.3,>=0.2.2->langchain-openai) (1.33)\n",
      "Requirement already satisfied: langsmith<0.2.0,>=0.1.75 in /Users/apirak/Library/Caches/pypoetry/virtualenvs/deal-droid-Yh1ExAlx-py3.12/lib/python3.12/site-packages (from langchain-core<0.3,>=0.2.2->langchain-openai) (0.1.81)\n",
      "Requirement already satisfied: packaging<25,>=23.2 in /Users/apirak/Library/Caches/pypoetry/virtualenvs/deal-droid-Yh1ExAlx-py3.12/lib/python3.12/site-packages (from langchain-core<0.3,>=0.2.2->langchain-openai) (23.2)\n",
      "Requirement already satisfied: pydantic<3.0.0,>=2.7.4 in /Users/apirak/Library/Caches/pypoetry/virtualenvs/deal-droid-Yh1ExAlx-py3.12/lib/python3.12/site-packages (from langchain-core<0.3,>=0.2.2->langchain-openai) (2.7.4)\n",
      "Requirement already satisfied: tenacity!=8.4.0,<9.0.0,>=8.1.0 in /Users/apirak/Library/Caches/pypoetry/virtualenvs/deal-droid-Yh1ExAlx-py3.12/lib/python3.12/site-packages (from langchain-core<0.3,>=0.2.2->langchain-openai) (8.4.1)\n",
      "Requirement already satisfied: anyio<5,>=3.5.0 in /Users/apirak/Library/Caches/pypoetry/virtualenvs/deal-droid-Yh1ExAlx-py3.12/lib/python3.12/site-packages (from openai<2.0.0,>=1.26.0->langchain-openai) (4.4.0)\n",
      "Requirement already satisfied: distro<2,>=1.7.0 in /Users/apirak/Library/Caches/pypoetry/virtualenvs/deal-droid-Yh1ExAlx-py3.12/lib/python3.12/site-packages (from openai<2.0.0,>=1.26.0->langchain-openai) (1.9.0)\n",
      "Requirement already satisfied: httpx<1,>=0.23.0 in /Users/apirak/Library/Caches/pypoetry/virtualenvs/deal-droid-Yh1ExAlx-py3.12/lib/python3.12/site-packages (from openai<2.0.0,>=1.26.0->langchain-openai) (0.27.0)\n",
      "Requirement already satisfied: sniffio in /Users/apirak/Library/Caches/pypoetry/virtualenvs/deal-droid-Yh1ExAlx-py3.12/lib/python3.12/site-packages (from openai<2.0.0,>=1.26.0->langchain-openai) (1.3.1)\n",
      "Requirement already satisfied: tqdm>4 in /Users/apirak/Library/Caches/pypoetry/virtualenvs/deal-droid-Yh1ExAlx-py3.12/lib/python3.12/site-packages (from openai<2.0.0,>=1.26.0->langchain-openai) (4.66.4)\n",
      "Requirement already satisfied: typing-extensions<5,>=4.7 in /Users/apirak/Library/Caches/pypoetry/virtualenvs/deal-droid-Yh1ExAlx-py3.12/lib/python3.12/site-packages (from openai<2.0.0,>=1.26.0->langchain-openai) (4.12.2)\n",
      "Requirement already satisfied: regex>=2022.1.18 in /Users/apirak/Library/Caches/pypoetry/virtualenvs/deal-droid-Yh1ExAlx-py3.12/lib/python3.12/site-packages (from tiktoken<1,>=0.7->langchain-openai) (2024.5.15)\n",
      "Requirement already satisfied: requests>=2.26.0 in /Users/apirak/Library/Caches/pypoetry/virtualenvs/deal-droid-Yh1ExAlx-py3.12/lib/python3.12/site-packages (from tiktoken<1,>=0.7->langchain-openai) (2.32.3)\n",
      "Requirement already satisfied: idna>=2.8 in /Users/apirak/Library/Caches/pypoetry/virtualenvs/deal-droid-Yh1ExAlx-py3.12/lib/python3.12/site-packages (from anyio<5,>=3.5.0->openai<2.0.0,>=1.26.0->langchain-openai) (3.7)\n",
      "Requirement already satisfied: certifi in /Users/apirak/Library/Caches/pypoetry/virtualenvs/deal-droid-Yh1ExAlx-py3.12/lib/python3.12/site-packages (from httpx<1,>=0.23.0->openai<2.0.0,>=1.26.0->langchain-openai) (2024.6.2)\n",
      "Requirement already satisfied: httpcore==1.* in /Users/apirak/Library/Caches/pypoetry/virtualenvs/deal-droid-Yh1ExAlx-py3.12/lib/python3.12/site-packages (from httpx<1,>=0.23.0->openai<2.0.0,>=1.26.0->langchain-openai) (1.0.5)\n",
      "Requirement already satisfied: h11<0.15,>=0.13 in /Users/apirak/Library/Caches/pypoetry/virtualenvs/deal-droid-Yh1ExAlx-py3.12/lib/python3.12/site-packages (from httpcore==1.*->httpx<1,>=0.23.0->openai<2.0.0,>=1.26.0->langchain-openai) (0.14.0)\n",
      "Requirement already satisfied: jsonpointer>=1.9 in /Users/apirak/Library/Caches/pypoetry/virtualenvs/deal-droid-Yh1ExAlx-py3.12/lib/python3.12/site-packages (from jsonpatch<2.0,>=1.33->langchain-core<0.3,>=0.2.2->langchain-openai) (3.0.0)\n",
      "Requirement already satisfied: orjson<4.0.0,>=3.9.14 in /Users/apirak/Library/Caches/pypoetry/virtualenvs/deal-droid-Yh1ExAlx-py3.12/lib/python3.12/site-packages (from langsmith<0.2.0,>=0.1.75->langchain-core<0.3,>=0.2.2->langchain-openai) (3.10.5)\n",
      "Requirement already satisfied: annotated-types>=0.4.0 in /Users/apirak/Library/Caches/pypoetry/virtualenvs/deal-droid-Yh1ExAlx-py3.12/lib/python3.12/site-packages (from pydantic<3.0.0,>=2.7.4->langchain-core<0.3,>=0.2.2->langchain-openai) (0.7.0)\n",
      "Requirement already satisfied: pydantic-core==2.18.4 in /Users/apirak/Library/Caches/pypoetry/virtualenvs/deal-droid-Yh1ExAlx-py3.12/lib/python3.12/site-packages (from pydantic<3.0.0,>=2.7.4->langchain-core<0.3,>=0.2.2->langchain-openai) (2.18.4)\n",
      "Requirement already satisfied: charset-normalizer<4,>=2 in /Users/apirak/Library/Caches/pypoetry/virtualenvs/deal-droid-Yh1ExAlx-py3.12/lib/python3.12/site-packages (from requests>=2.26.0->tiktoken<1,>=0.7->langchain-openai) (3.3.2)\n",
      "Requirement already satisfied: urllib3<3,>=1.21.1 in /Users/apirak/Library/Caches/pypoetry/virtualenvs/deal-droid-Yh1ExAlx-py3.12/lib/python3.12/site-packages (from requests>=2.26.0->tiktoken<1,>=0.7->langchain-openai) (2.2.2)\n",
      "Note: you may need to restart the kernel to use updated packages.\n",
      "Requirement already satisfied: langchain_community in /Users/apirak/Library/Caches/pypoetry/virtualenvs/deal-droid-Yh1ExAlx-py3.12/lib/python3.12/site-packages (0.2.4)\n",
      "Requirement already satisfied: PyYAML>=5.3 in /Users/apirak/Library/Caches/pypoetry/virtualenvs/deal-droid-Yh1ExAlx-py3.12/lib/python3.12/site-packages (from langchain_community) (6.0.1)\n",
      "Requirement already satisfied: SQLAlchemy<3,>=1.4 in /Users/apirak/Library/Caches/pypoetry/virtualenvs/deal-droid-Yh1ExAlx-py3.12/lib/python3.12/site-packages (from langchain_community) (2.0.31)\n",
      "Requirement already satisfied: aiohttp<4.0.0,>=3.8.3 in /Users/apirak/Library/Caches/pypoetry/virtualenvs/deal-droid-Yh1ExAlx-py3.12/lib/python3.12/site-packages (from langchain_community) (3.9.5)\n",
      "Requirement already satisfied: dataclasses-json<0.7,>=0.5.7 in /Users/apirak/Library/Caches/pypoetry/virtualenvs/deal-droid-Yh1ExAlx-py3.12/lib/python3.12/site-packages (from langchain_community) (0.6.7)\n",
      "Requirement already satisfied: langchain<0.3.0,>=0.2.0 in /Users/apirak/Library/Caches/pypoetry/virtualenvs/deal-droid-Yh1ExAlx-py3.12/lib/python3.12/site-packages (from langchain_community) (0.2.3)\n",
      "Requirement already satisfied: langchain-core<0.3.0,>=0.2.0 in /Users/apirak/Library/Caches/pypoetry/virtualenvs/deal-droid-Yh1ExAlx-py3.12/lib/python3.12/site-packages (from langchain_community) (0.2.9)\n",
      "Requirement already satisfied: langsmith<0.2.0,>=0.1.0 in /Users/apirak/Library/Caches/pypoetry/virtualenvs/deal-droid-Yh1ExAlx-py3.12/lib/python3.12/site-packages (from langchain_community) (0.1.81)\n",
      "Requirement already satisfied: numpy<2,>=1 in /Users/apirak/Library/Caches/pypoetry/virtualenvs/deal-droid-Yh1ExAlx-py3.12/lib/python3.12/site-packages (from langchain_community) (1.26.4)\n",
      "Requirement already satisfied: requests<3,>=2 in /Users/apirak/Library/Caches/pypoetry/virtualenvs/deal-droid-Yh1ExAlx-py3.12/lib/python3.12/site-packages (from langchain_community) (2.32.3)\n",
      "Requirement already satisfied: tenacity<9.0.0,>=8.1.0 in /Users/apirak/Library/Caches/pypoetry/virtualenvs/deal-droid-Yh1ExAlx-py3.12/lib/python3.12/site-packages (from langchain_community) (8.4.1)\n",
      "Requirement already satisfied: aiosignal>=1.1.2 in /Users/apirak/Library/Caches/pypoetry/virtualenvs/deal-droid-Yh1ExAlx-py3.12/lib/python3.12/site-packages (from aiohttp<4.0.0,>=3.8.3->langchain_community) (1.3.1)\n",
      "Requirement already satisfied: attrs>=17.3.0 in /Users/apirak/Library/Caches/pypoetry/virtualenvs/deal-droid-Yh1ExAlx-py3.12/lib/python3.12/site-packages (from aiohttp<4.0.0,>=3.8.3->langchain_community) (23.2.0)\n",
      "Requirement already satisfied: frozenlist>=1.1.1 in /Users/apirak/Library/Caches/pypoetry/virtualenvs/deal-droid-Yh1ExAlx-py3.12/lib/python3.12/site-packages (from aiohttp<4.0.0,>=3.8.3->langchain_community) (1.4.1)\n",
      "Requirement already satisfied: multidict<7.0,>=4.5 in /Users/apirak/Library/Caches/pypoetry/virtualenvs/deal-droid-Yh1ExAlx-py3.12/lib/python3.12/site-packages (from aiohttp<4.0.0,>=3.8.3->langchain_community) (6.0.5)\n",
      "Requirement already satisfied: yarl<2.0,>=1.0 in /Users/apirak/Library/Caches/pypoetry/virtualenvs/deal-droid-Yh1ExAlx-py3.12/lib/python3.12/site-packages (from aiohttp<4.0.0,>=3.8.3->langchain_community) (1.9.4)\n",
      "Requirement already satisfied: marshmallow<4.0.0,>=3.18.0 in /Users/apirak/Library/Caches/pypoetry/virtualenvs/deal-droid-Yh1ExAlx-py3.12/lib/python3.12/site-packages (from dataclasses-json<0.7,>=0.5.7->langchain_community) (3.21.3)\n",
      "Requirement already satisfied: typing-inspect<1,>=0.4.0 in /Users/apirak/Library/Caches/pypoetry/virtualenvs/deal-droid-Yh1ExAlx-py3.12/lib/python3.12/site-packages (from dataclasses-json<0.7,>=0.5.7->langchain_community) (0.9.0)\n",
      "Requirement already satisfied: langchain-text-splitters<0.3.0,>=0.2.0 in /Users/apirak/Library/Caches/pypoetry/virtualenvs/deal-droid-Yh1ExAlx-py3.12/lib/python3.12/site-packages (from langchain<0.3.0,>=0.2.0->langchain_community) (0.2.1)\n",
      "Requirement already satisfied: pydantic<3,>=1 in /Users/apirak/Library/Caches/pypoetry/virtualenvs/deal-droid-Yh1ExAlx-py3.12/lib/python3.12/site-packages (from langchain<0.3.0,>=0.2.0->langchain_community) (2.7.4)\n",
      "Requirement already satisfied: jsonpatch<2.0,>=1.33 in /Users/apirak/Library/Caches/pypoetry/virtualenvs/deal-droid-Yh1ExAlx-py3.12/lib/python3.12/site-packages (from langchain-core<0.3.0,>=0.2.0->langchain_community) (1.33)\n",
      "Requirement already satisfied: packaging<25,>=23.2 in /Users/apirak/Library/Caches/pypoetry/virtualenvs/deal-droid-Yh1ExAlx-py3.12/lib/python3.12/site-packages (from langchain-core<0.3.0,>=0.2.0->langchain_community) (23.2)\n",
      "Requirement already satisfied: orjson<4.0.0,>=3.9.14 in /Users/apirak/Library/Caches/pypoetry/virtualenvs/deal-droid-Yh1ExAlx-py3.12/lib/python3.12/site-packages (from langsmith<0.2.0,>=0.1.0->langchain_community) (3.10.5)\n",
      "Requirement already satisfied: charset-normalizer<4,>=2 in /Users/apirak/Library/Caches/pypoetry/virtualenvs/deal-droid-Yh1ExAlx-py3.12/lib/python3.12/site-packages (from requests<3,>=2->langchain_community) (3.3.2)\n",
      "Requirement already satisfied: idna<4,>=2.5 in /Users/apirak/Library/Caches/pypoetry/virtualenvs/deal-droid-Yh1ExAlx-py3.12/lib/python3.12/site-packages (from requests<3,>=2->langchain_community) (3.7)\n",
      "Requirement already satisfied: urllib3<3,>=1.21.1 in /Users/apirak/Library/Caches/pypoetry/virtualenvs/deal-droid-Yh1ExAlx-py3.12/lib/python3.12/site-packages (from requests<3,>=2->langchain_community) (2.2.2)\n",
      "Requirement already satisfied: certifi>=2017.4.17 in /Users/apirak/Library/Caches/pypoetry/virtualenvs/deal-droid-Yh1ExAlx-py3.12/lib/python3.12/site-packages (from requests<3,>=2->langchain_community) (2024.6.2)\n",
      "Requirement already satisfied: typing-extensions>=4.6.0 in /Users/apirak/Library/Caches/pypoetry/virtualenvs/deal-droid-Yh1ExAlx-py3.12/lib/python3.12/site-packages (from SQLAlchemy<3,>=1.4->langchain_community) (4.12.2)\n",
      "Requirement already satisfied: jsonpointer>=1.9 in /Users/apirak/Library/Caches/pypoetry/virtualenvs/deal-droid-Yh1ExAlx-py3.12/lib/python3.12/site-packages (from jsonpatch<2.0,>=1.33->langchain-core<0.3.0,>=0.2.0->langchain_community) (3.0.0)\n",
      "Requirement already satisfied: annotated-types>=0.4.0 in /Users/apirak/Library/Caches/pypoetry/virtualenvs/deal-droid-Yh1ExAlx-py3.12/lib/python3.12/site-packages (from pydantic<3,>=1->langchain<0.3.0,>=0.2.0->langchain_community) (0.7.0)\n",
      "Requirement already satisfied: pydantic-core==2.18.4 in /Users/apirak/Library/Caches/pypoetry/virtualenvs/deal-droid-Yh1ExAlx-py3.12/lib/python3.12/site-packages (from pydantic<3,>=1->langchain<0.3.0,>=0.2.0->langchain_community) (2.18.4)\n",
      "Requirement already satisfied: mypy-extensions>=0.3.0 in /Users/apirak/Library/Caches/pypoetry/virtualenvs/deal-droid-Yh1ExAlx-py3.12/lib/python3.12/site-packages (from typing-inspect<1,>=0.4.0->dataclasses-json<0.7,>=0.5.7->langchain_community) (1.0.0)\n",
      "Note: you may need to restart the kernel to use updated packages.\n"
     ]
    }
   ],
   "source": [
    "# %pip install -qU langchain-openai\n",
    "%pip install langchain-openai\n",
    "%pip install langchain-community"
   ]
  },
  {
   "cell_type": "code",
   "execution_count": 9,
   "metadata": {},
   "outputs": [
    {
     "name": "stdout",
     "output_type": "stream",
     "text": [
      "Requirement already satisfied: langchain_core in /Users/apirak/Library/Caches/pypoetry/virtualenvs/deal-droid-Yh1ExAlx-py3.12/lib/python3.12/site-packages (0.2.9)\n",
      "Requirement already satisfied: PyYAML>=5.3 in /Users/apirak/Library/Caches/pypoetry/virtualenvs/deal-droid-Yh1ExAlx-py3.12/lib/python3.12/site-packages (from langchain_core) (6.0.1)\n",
      "Requirement already satisfied: jsonpatch<2.0,>=1.33 in /Users/apirak/Library/Caches/pypoetry/virtualenvs/deal-droid-Yh1ExAlx-py3.12/lib/python3.12/site-packages (from langchain_core) (1.33)\n",
      "Requirement already satisfied: langsmith<0.2.0,>=0.1.75 in /Users/apirak/Library/Caches/pypoetry/virtualenvs/deal-droid-Yh1ExAlx-py3.12/lib/python3.12/site-packages (from langchain_core) (0.1.81)\n",
      "Requirement already satisfied: packaging<25,>=23.2 in /Users/apirak/Library/Caches/pypoetry/virtualenvs/deal-droid-Yh1ExAlx-py3.12/lib/python3.12/site-packages (from langchain_core) (23.2)\n",
      "Requirement already satisfied: pydantic<3.0.0,>=2.7.4 in /Users/apirak/Library/Caches/pypoetry/virtualenvs/deal-droid-Yh1ExAlx-py3.12/lib/python3.12/site-packages (from langchain_core) (2.7.4)\n",
      "Requirement already satisfied: tenacity!=8.4.0,<9.0.0,>=8.1.0 in /Users/apirak/Library/Caches/pypoetry/virtualenvs/deal-droid-Yh1ExAlx-py3.12/lib/python3.12/site-packages (from langchain_core) (8.4.1)\n",
      "Requirement already satisfied: jsonpointer>=1.9 in /Users/apirak/Library/Caches/pypoetry/virtualenvs/deal-droid-Yh1ExAlx-py3.12/lib/python3.12/site-packages (from jsonpatch<2.0,>=1.33->langchain_core) (3.0.0)\n",
      "Requirement already satisfied: orjson<4.0.0,>=3.9.14 in /Users/apirak/Library/Caches/pypoetry/virtualenvs/deal-droid-Yh1ExAlx-py3.12/lib/python3.12/site-packages (from langsmith<0.2.0,>=0.1.75->langchain_core) (3.10.5)\n",
      "Requirement already satisfied: requests<3,>=2 in /Users/apirak/Library/Caches/pypoetry/virtualenvs/deal-droid-Yh1ExAlx-py3.12/lib/python3.12/site-packages (from langsmith<0.2.0,>=0.1.75->langchain_core) (2.32.3)\n",
      "Requirement already satisfied: annotated-types>=0.4.0 in /Users/apirak/Library/Caches/pypoetry/virtualenvs/deal-droid-Yh1ExAlx-py3.12/lib/python3.12/site-packages (from pydantic<3.0.0,>=2.7.4->langchain_core) (0.7.0)\n",
      "Requirement already satisfied: pydantic-core==2.18.4 in /Users/apirak/Library/Caches/pypoetry/virtualenvs/deal-droid-Yh1ExAlx-py3.12/lib/python3.12/site-packages (from pydantic<3.0.0,>=2.7.4->langchain_core) (2.18.4)\n",
      "Requirement already satisfied: typing-extensions>=4.6.1 in /Users/apirak/Library/Caches/pypoetry/virtualenvs/deal-droid-Yh1ExAlx-py3.12/lib/python3.12/site-packages (from pydantic<3.0.0,>=2.7.4->langchain_core) (4.12.2)\n",
      "Requirement already satisfied: charset-normalizer<4,>=2 in /Users/apirak/Library/Caches/pypoetry/virtualenvs/deal-droid-Yh1ExAlx-py3.12/lib/python3.12/site-packages (from requests<3,>=2->langsmith<0.2.0,>=0.1.75->langchain_core) (3.3.2)\n",
      "Requirement already satisfied: idna<4,>=2.5 in /Users/apirak/Library/Caches/pypoetry/virtualenvs/deal-droid-Yh1ExAlx-py3.12/lib/python3.12/site-packages (from requests<3,>=2->langsmith<0.2.0,>=0.1.75->langchain_core) (3.7)\n",
      "Requirement already satisfied: urllib3<3,>=1.21.1 in /Users/apirak/Library/Caches/pypoetry/virtualenvs/deal-droid-Yh1ExAlx-py3.12/lib/python3.12/site-packages (from requests<3,>=2->langsmith<0.2.0,>=0.1.75->langchain_core) (2.2.2)\n",
      "Requirement already satisfied: certifi>=2017.4.17 in /Users/apirak/Library/Caches/pypoetry/virtualenvs/deal-droid-Yh1ExAlx-py3.12/lib/python3.12/site-packages (from requests<3,>=2->langsmith<0.2.0,>=0.1.75->langchain_core) (2024.6.2)\n",
      "Note: you may need to restart the kernel to use updated packages.\n"
     ]
    }
   ],
   "source": [
    "%pip install langchain_core"
   ]
  },
  {
   "cell_type": "code",
   "execution_count": 20,
   "metadata": {},
   "outputs": [],
   "source": [
    "import os\n",
    "import getpass\n",
    "from langchain_openai import ChatOpenAI\n",
    "from dotenv import load_dotenv\n",
    "from langchain_core.messages import HumanMessage\n",
    "from langchain_core.messages import AIMessage\n",
    "from langchain_community.chat_message_histories import ChatMessageHistory\n",
    "from langchain_core.chat_history import BaseChatMessageHistory\n",
    "from langchain_core.runnables.history import RunnableWithMessageHistory\n",
    "\n",
    "# Load environment variables from .env file\n",
    "load_dotenv()\n",
    "\n",
    "open_ai_key = os.getenv('OPEN_AI_KEY')\n",
    "open_ai_org = os.getenv('OPEN_AI_ORG')\n",
    "\n",
    "model = ChatOpenAI(\n",
    "    openai_api_key=open_ai_key,\n",
    "    openai_organization=open_ai_org,\n",
    "    max_tokens=1000,\n",
    "    model=\"gpt-4\"\n",
    ")\n",
    "\n",
    "store = {}\n",
    "\n",
    "def get_session_history(session_id: str) -> BaseChatMessageHistory:\n",
    "    if session_id not in store:\n",
    "        store[session_id] = ChatMessageHistory()\n",
    "    return store[session_id]\n",
    "\n"
   ]
  },
  {
   "cell_type": "markdown",
   "metadata": {},
   "source": [
    "# Managing a Chat Bot History"
   ]
  },
  {
   "cell_type": "code",
   "execution_count": 11,
   "metadata": {},
   "outputs": [
    {
     "name": "stdout",
     "output_type": "stream",
     "text": [
      "['AIMessage', 'AIMessageChunk', 'AnyMessage', 'BaseMessage', 'BaseMessageChunk', 'ChatMessage', 'ChatMessageChunk', 'FunctionMessage', 'FunctionMessageChunk', 'HumanMessage', 'HumanMessageChunk', 'InvalidToolCall', 'MessageLikeRepresentation', 'SystemMessage', 'SystemMessageChunk', 'ToolCall', 'ToolCallChunk', 'ToolMessage', 'ToolMessageChunk', '__all__', '__builtins__', '__cached__', '__doc__', '__file__', '__loader__', '__name__', '__package__', '__path__', '__spec__', '_message_from_dict', 'ai', 'base', 'chat', 'convert_to_messages', 'filter_messages', 'function', 'get_buffer_string', 'human', 'merge_content', 'merge_message_runs', 'message_chunk_to_message', 'message_to_dict', 'messages_from_dict', 'messages_to_dict', 'system', 'tool', 'trim_messages', 'utils']\n"
     ]
    }
   ],
   "source": [
    "import langchain_core.messages as messages\n",
    "print(dir(messages))"
   ]
  },
  {
   "cell_type": "code",
   "execution_count": 12,
   "metadata": {},
   "outputs": [],
   "source": [
    "from langchain_core.messages import SystemMessage, trim_messages"
   ]
  },
  {
   "cell_type": "code",
   "execution_count": 13,
   "metadata": {},
   "outputs": [
    {
     "data": {
      "text/plain": [
       "[SystemMessage(content=\"you're a good assistant\"),\n",
       " HumanMessage(content='whats 2 + 2'),\n",
       " AIMessage(content='4'),\n",
       " HumanMessage(content='thanks'),\n",
       " AIMessage(content='no problem!'),\n",
       " HumanMessage(content='having fun?'),\n",
       " AIMessage(content='yes!')]"
      ]
     },
     "execution_count": 13,
     "metadata": {},
     "output_type": "execute_result"
    }
   ],
   "source": [
    "trimmer = trim_messages(\n",
    "    max_tokens=65,\n",
    "    strategy=\"last\",\n",
    "    token_counter=model,\n",
    "    include_system=True,\n",
    "    allow_partial=False,\n",
    "    start_on=\"human\",\n",
    ")\n",
    "\n",
    "messages = [\n",
    "    SystemMessage(content=\"you're a good assistant\"),\n",
    "    HumanMessage(content=\"hi! I'm bob\"),\n",
    "    AIMessage(content=\"hi!\"),\n",
    "    HumanMessage(content=\"I like vanilla ice cream\"),\n",
    "    AIMessage(content=\"nice\"),\n",
    "    HumanMessage(content=\"whats 2 + 2\"),\n",
    "    AIMessage(content=\"4\"),\n",
    "    HumanMessage(content=\"thanks\"),\n",
    "    AIMessage(content=\"no problem!\"),\n",
    "    HumanMessage(content=\"having fun?\"),\n",
    "    AIMessage(content=\"yes!\"),\n",
    "]\n",
    "\n",
    "trimmer.invoke(messages)"
   ]
  },
  {
   "cell_type": "code",
   "execution_count": 15,
   "metadata": {},
   "outputs": [],
   "source": [
    "from operator import itemgetter\n",
    "\n",
    "from langchain_core.runnables import RunnablePassthrough\n",
    "from langchain_core.prompts import ChatPromptTemplate, MessagesPlaceholder\n",
    "\n",
    "prompt = ChatPromptTemplate.from_messages(\n",
    "    [\n",
    "        (\n",
    "            \"system\",\n",
    "            \"You are a helpful assistant. Answer all questions to the best of your ability in {language}.\",\n",
    "        ),\n",
    "        MessagesPlaceholder(variable_name=\"messages\"),\n",
    "    ]\n",
    ")\n",
    "\n",
    "chain = (\n",
    "    RunnablePassthrough.assign(messages=itemgetter(\"messages\") | trimmer)\n",
    "    | prompt\n",
    "    | model\n",
    ")"
   ]
  },
  {
   "cell_type": "code",
   "execution_count": 16,
   "metadata": {},
   "outputs": [
    {
     "data": {
      "text/plain": [
       "\"I'm sorry, but as an AI, I don't have access to personal data about individuals unless it has been shared with me in the course of our conversation. I am designed to respect user privacy and confidentiality.\""
      ]
     },
     "execution_count": 16,
     "metadata": {},
     "output_type": "execute_result"
    }
   ],
   "source": [
    "response = chain.invoke(\n",
    "    {\n",
    "        \"messages\": messages + [HumanMessage(content=\"what's my name?\")],\n",
    "        \"language\": \"English\",\n",
    "    }\n",
    ")\n",
    "response.content"
   ]
  },
  {
   "cell_type": "code",
   "execution_count": 17,
   "metadata": {},
   "outputs": [
    {
     "data": {
      "text/plain": [
       "<bound method Runnable.config_schema of RunnableAssign(mapper={\n",
       "  messages: RunnableLambda(itemgetter('messages'))\n",
       "            | RunnableLambda(...)\n",
       "})\n",
       "| ChatPromptTemplate(input_variables=['language', 'messages'], input_types={'messages': typing.List[typing.Union[langchain_core.messages.ai.AIMessage, langchain_core.messages.human.HumanMessage, langchain_core.messages.chat.ChatMessage, langchain_core.messages.system.SystemMessage, langchain_core.messages.function.FunctionMessage, langchain_core.messages.tool.ToolMessage]]}, messages=[SystemMessagePromptTemplate(prompt=PromptTemplate(input_variables=['language'], template='You are a helpful assistant. Answer all questions to the best of your ability in {language}.')), MessagesPlaceholder(variable_name='messages')])\n",
       "| ChatOpenAI(client=<openai.resources.chat.completions.Completions object at 0x10b912030>, async_client=<openai.resources.chat.completions.AsyncCompletions object at 0x10b76a330>, model_name='gpt-4', openai_api_key=SecretStr('**********'), openai_organization='org-lYYGPYrLU0xRY4oG3ExZdmg9', openai_proxy='', max_tokens=1000)>"
      ]
     },
     "execution_count": 17,
     "metadata": {},
     "output_type": "execute_result"
    }
   ],
   "source": [
    "chain.config_schema"
   ]
  },
  {
   "cell_type": "code",
   "execution_count": 18,
   "metadata": {},
   "outputs": [],
   "source": [
    "with_message_history = RunnableWithMessageHistory(\n",
    "    chain,\n",
    "    get_session_history,\n",
    "    input_messages_key=\"messages\",\n",
    ")\n",
    "\n",
    "config = {\"configurable\": {\"session_id\": \"abc20\"}}"
   ]
  },
  {
   "cell_type": "code",
   "execution_count": 19,
   "metadata": {},
   "outputs": [
    {
     "ename": "NameError",
     "evalue": "name 'store' is not defined",
     "output_type": "error",
     "traceback": [
      "\u001b[0;31m---------------------------------------------------------------------------\u001b[0m",
      "\u001b[0;31mNameError\u001b[0m                                 Traceback (most recent call last)",
      "Cell \u001b[0;32mIn[19], line 1\u001b[0m\n\u001b[0;32m----> 1\u001b[0m response \u001b[38;5;241m=\u001b[39m \u001b[43mwith_message_history\u001b[49m\u001b[38;5;241;43m.\u001b[39;49m\u001b[43minvoke\u001b[49m\u001b[43m(\u001b[49m\n\u001b[1;32m      2\u001b[0m \u001b[43m    \u001b[49m\u001b[43m{\u001b[49m\n\u001b[1;32m      3\u001b[0m \u001b[43m        \u001b[49m\u001b[38;5;124;43m\"\u001b[39;49m\u001b[38;5;124;43mmessages\u001b[39;49m\u001b[38;5;124;43m\"\u001b[39;49m\u001b[43m:\u001b[49m\u001b[43m \u001b[49m\u001b[43mmessages\u001b[49m\u001b[43m \u001b[49m\u001b[38;5;241;43m+\u001b[39;49m\u001b[43m \u001b[49m\u001b[43m[\u001b[49m\u001b[43mHumanMessage\u001b[49m\u001b[43m(\u001b[49m\u001b[43mcontent\u001b[49m\u001b[38;5;241;43m=\u001b[39;49m\u001b[38;5;124;43m\"\u001b[39;49m\u001b[38;5;124;43mwhats my name?\u001b[39;49m\u001b[38;5;124;43m\"\u001b[39;49m\u001b[43m)\u001b[49m\u001b[43m]\u001b[49m\u001b[43m,\u001b[49m\n\u001b[1;32m      4\u001b[0m \u001b[43m        \u001b[49m\u001b[38;5;124;43m\"\u001b[39;49m\u001b[38;5;124;43mlanguage\u001b[39;49m\u001b[38;5;124;43m\"\u001b[39;49m\u001b[43m:\u001b[49m\u001b[43m \u001b[49m\u001b[38;5;124;43m\"\u001b[39;49m\u001b[38;5;124;43mEnglish\u001b[39;49m\u001b[38;5;124;43m\"\u001b[39;49m\u001b[43m,\u001b[49m\n\u001b[1;32m      5\u001b[0m \u001b[43m    \u001b[49m\u001b[43m}\u001b[49m\u001b[43m,\u001b[49m\n\u001b[1;32m      6\u001b[0m \u001b[43m    \u001b[49m\u001b[43mconfig\u001b[49m\u001b[38;5;241;43m=\u001b[39;49m\u001b[43mconfig\u001b[49m\u001b[43m,\u001b[49m\n\u001b[1;32m      7\u001b[0m \u001b[43m)\u001b[49m\n\u001b[1;32m      9\u001b[0m response\u001b[38;5;241m.\u001b[39mcontent\n",
      "File \u001b[0;32m~/Library/Caches/pypoetry/virtualenvs/deal-droid-Yh1ExAlx-py3.12/lib/python3.12/site-packages/langchain_core/runnables/base.py:4575\u001b[0m, in \u001b[0;36mRunnableBindingBase.invoke\u001b[0;34m(self, input, config, **kwargs)\u001b[0m\n\u001b[1;32m   4567\u001b[0m \u001b[38;5;28;01mdef\u001b[39;00m \u001b[38;5;21minvoke\u001b[39m(\n\u001b[1;32m   4568\u001b[0m     \u001b[38;5;28mself\u001b[39m,\n\u001b[1;32m   4569\u001b[0m     \u001b[38;5;28minput\u001b[39m: Input,\n\u001b[1;32m   4570\u001b[0m     config: Optional[RunnableConfig] \u001b[38;5;241m=\u001b[39m \u001b[38;5;28;01mNone\u001b[39;00m,\n\u001b[1;32m   4571\u001b[0m     \u001b[38;5;241m*\u001b[39m\u001b[38;5;241m*\u001b[39mkwargs: Optional[Any],\n\u001b[1;32m   4572\u001b[0m ) \u001b[38;5;241m-\u001b[39m\u001b[38;5;241m>\u001b[39m Output:\n\u001b[1;32m   4573\u001b[0m     \u001b[38;5;28;01mreturn\u001b[39;00m \u001b[38;5;28mself\u001b[39m\u001b[38;5;241m.\u001b[39mbound\u001b[38;5;241m.\u001b[39minvoke(\n\u001b[1;32m   4574\u001b[0m         \u001b[38;5;28minput\u001b[39m,\n\u001b[0;32m-> 4575\u001b[0m         \u001b[38;5;28;43mself\u001b[39;49m\u001b[38;5;241;43m.\u001b[39;49m\u001b[43m_merge_configs\u001b[49m\u001b[43m(\u001b[49m\u001b[43mconfig\u001b[49m\u001b[43m)\u001b[49m,\n\u001b[1;32m   4576\u001b[0m         \u001b[38;5;241m*\u001b[39m\u001b[38;5;241m*\u001b[39m{\u001b[38;5;241m*\u001b[39m\u001b[38;5;241m*\u001b[39m\u001b[38;5;28mself\u001b[39m\u001b[38;5;241m.\u001b[39mkwargs, \u001b[38;5;241m*\u001b[39m\u001b[38;5;241m*\u001b[39mkwargs},\n\u001b[1;32m   4577\u001b[0m     )\n",
      "File \u001b[0;32m~/Library/Caches/pypoetry/virtualenvs/deal-droid-Yh1ExAlx-py3.12/lib/python3.12/site-packages/langchain_core/runnables/history.py:511\u001b[0m, in \u001b[0;36mRunnableWithMessageHistory._merge_configs\u001b[0;34m(self, *configs)\u001b[0m\n\u001b[1;32m    507\u001b[0m parameter_names \u001b[38;5;241m=\u001b[39m _get_parameter_names(\u001b[38;5;28mself\u001b[39m\u001b[38;5;241m.\u001b[39mget_session_history)\n\u001b[1;32m    509\u001b[0m \u001b[38;5;28;01mif\u001b[39;00m \u001b[38;5;28mlen\u001b[39m(expected_keys) \u001b[38;5;241m==\u001b[39m \u001b[38;5;241m1\u001b[39m:\n\u001b[1;32m    510\u001b[0m     \u001b[38;5;66;03m# If arity = 1, then invoke function by positional arguments\u001b[39;00m\n\u001b[0;32m--> 511\u001b[0m     message_history \u001b[38;5;241m=\u001b[39m \u001b[38;5;28;43mself\u001b[39;49m\u001b[38;5;241;43m.\u001b[39;49m\u001b[43mget_session_history\u001b[49m\u001b[43m(\u001b[49m\u001b[43mconfigurable\u001b[49m\u001b[43m[\u001b[49m\u001b[43mexpected_keys\u001b[49m\u001b[43m[\u001b[49m\u001b[38;5;241;43m0\u001b[39;49m\u001b[43m]\u001b[49m\u001b[43m]\u001b[49m\u001b[43m)\u001b[49m\n\u001b[1;32m    512\u001b[0m \u001b[38;5;28;01melse\u001b[39;00m:\n\u001b[1;32m    513\u001b[0m     \u001b[38;5;66;03m# otherwise verify that names of keys patch and invoke by named arguments\u001b[39;00m\n\u001b[1;32m    514\u001b[0m     \u001b[38;5;28;01mif\u001b[39;00m \u001b[38;5;28mset\u001b[39m(expected_keys) \u001b[38;5;241m!=\u001b[39m \u001b[38;5;28mset\u001b[39m(parameter_names):\n",
      "Cell \u001b[0;32mIn[10], line 25\u001b[0m, in \u001b[0;36mget_session_history\u001b[0;34m(session_id)\u001b[0m\n\u001b[1;32m     24\u001b[0m \u001b[38;5;28;01mdef\u001b[39;00m \u001b[38;5;21mget_session_history\u001b[39m(session_id: \u001b[38;5;28mstr\u001b[39m) \u001b[38;5;241m-\u001b[39m\u001b[38;5;241m>\u001b[39m BaseChatMessageHistory:\n\u001b[0;32m---> 25\u001b[0m     \u001b[38;5;28;01mif\u001b[39;00m session_id \u001b[38;5;129;01mnot\u001b[39;00m \u001b[38;5;129;01min\u001b[39;00m \u001b[43mstore\u001b[49m:\n\u001b[1;32m     26\u001b[0m         store[session_id] \u001b[38;5;241m=\u001b[39m ChatMessageHistory()\n\u001b[1;32m     27\u001b[0m     \u001b[38;5;28;01mreturn\u001b[39;00m store[session_id]\n",
      "\u001b[0;31mNameError\u001b[0m: name 'store' is not defined"
     ]
    }
   ],
   "source": [
    "response = with_message_history.invoke(\n",
    "    {\n",
    "        \"messages\": messages + [HumanMessage(content=\"whats my name?\")],\n",
    "        \"language\": \"English\",\n",
    "    },\n",
    "    config=config,\n",
    ")\n",
    "\n",
    "response.content"
   ]
  },
  {
   "cell_type": "code",
   "execution_count": null,
   "metadata": {},
   "outputs": [],
   "source": []
  }
 ],
 "metadata": {
  "kernelspec": {
   "display_name": "Python 3 (ipykernel)",
   "language": "python",
   "name": "python3"
  },
  "language_info": {
   "codemirror_mode": {
    "name": "ipython",
    "version": 3
   },
   "file_extension": ".py",
   "mimetype": "text/x-python",
   "name": "python",
   "nbconvert_exporter": "python",
   "pygments_lexer": "ipython3",
   "version": "3.12.3"
  }
 },
 "nbformat": 4,
 "nbformat_minor": 4
}
